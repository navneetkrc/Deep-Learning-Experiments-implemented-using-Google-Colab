{
  "nbformat": 4,
  "nbformat_minor": 0,
  "metadata": {
    "colab": {
      "provenance": [],
      "authorship_tag": "ABX9TyMMqWYCrIVKOmpBMT5PFlEw"
    },
    "kernelspec": {
      "name": "python3",
      "display_name": "Python 3"
    },
    "language_info": {
      "name": "python"
    }
  },
  "cells": [
    {
      "cell_type": "code",
      "execution_count": null,
      "metadata": {
        "collapsed": true,
        "id": "tJg5QtuDlkGo"
      },
      "outputs": [],
      "source": [
        "!pip install flashrank\n",
        "!pip install transformers\n",
        "!pip install sentence-transformers\n"
      ]
    },
    {
      "cell_type": "code",
      "source": [],
      "metadata": {
        "id": "L6Mm58o6luu-"
      },
      "execution_count": 1,
      "outputs": []
    },
    {
      "cell_type": "code",
      "source": [
        "from flashrank import Ranker, RerankRequest\n",
        "\n",
        "# Small (~34MB), slightly slower & best performance (ranking precision).\n",
        "ranker = Ranker(model_name=\"ms-marco-MiniLM-L-12-v2\", cache_dir=\"/opt\")\n",
        "\n",
        "# # Nano (~4MB), blazing fast model & competitive performance (ranking precision).\n",
        "# ranker = Ranker()\n",
        "\n",
        "# or\n",
        "\n",
        "# # Small (~34MB), slightly slower & best performance (ranking precision).\n",
        "# ranker = Ranker(model_name=\"ms-marco-MiniLM-L-12-v2\", cache_dir=\"/opt\")\n",
        "\n",
        "# or\n",
        "\n",
        "# # Medium (~110MB), slower model with best zeroshot performance (ranking precision) on out of domain data.\n",
        "# ranker = Ranker(model_name=\"rank-T5-flan\", cache_dir=\"/opt\")\n",
        "\n",
        "# or\n",
        "\n",
        "# # Medium (~150MB), slower model with competitive performance (ranking precision) for 100+ languages  (don't use for english)\n",
        "# ranker = Ranker(model_name=\"ms-marco-MultiBERT-L-12\", cache_dir=\"/opt\")\n",
        "\n",
        "# or\n",
        "\n",
        "# ranker = Ranker(model_name=\"rank_zephyr_7b_v1_full\", max_length=1024) # adjust max_length based on your passage length"
      ],
      "metadata": {
        "colab": {
          "base_uri": "https://localhost:8080/"
        },
        "id": "9E1aEze3lwv2",
        "outputId": "4f7051c3-4e42-40f2-e8fe-2e5b43780516"
      },
      "execution_count": 2,
      "outputs": [
        {
          "output_type": "stream",
          "name": "stderr",
          "text": [
            "ms-marco-MiniLM-L-12-v2.zip: 100%|██████████| 21.6M/21.6M [00:00<00:00, 40.1MiB/s]\n"
          ]
        }
      ]
    },
    {
      "cell_type": "code",
      "source": [
        "# Metadata is optional, Id can be your DB ids from your retrieval stage or simple numeric indices.\n",
        "query = \"galaxy\"\n",
        "passages = [\n",
        "   {\n",
        "      \"id\":1,\n",
        "      \"text\":\"Introduce *lookahead decoding*: - a parallel decoding algo to accelerate LLM inference - w/o the need for a draft model or a data store - linearly decreases # decoding steps relative to log(FLOPs) used per decoding step.\",\n",
        "      \"meta\": {\"additional\": \"info1\"}\n",
        "   },\n",
        "   {\n",
        "      \"id\":2,\n",
        "      \"text\":\"LLM inference efficiency will be one of the most crucial topics for both industry and academia, simply because the more efficient you are, the more $$$ you will save. vllm project is a must-read for this direction, and now they have just released the paper\",\n",
        "      \"meta\": {\"additional\": \"info2\"}\n",
        "   },\n",
        "   {\n",
        "      \"id\":3,\n",
        "      \"text\":\"There are many ways to increase LLM inference throughput (tokens/second) and decrease memory footprint, sometimes at the same time. Here are a few methods I’ve found effective when working with Llama 2. These methods are all well-integrated with Hugging Face. This list is far from exhaustive; some of these techniques can be used in combination with each other and there are plenty of others to try. - Bettertransformer (Optimum Library): Simply call `model.to_bettertransformer()` on your Hugging Face model for a modest improvement in tokens per second. - Fp4 Mixed-Precision (Bitsandbytes): Requires minimal configuration and dramatically reduces the model's memory footprint. - AutoGPTQ: Time-consuming but leads to a much smaller model and faster inference. The quantization is a one-time cost that pays off in the long run.\",\n",
        "      \"meta\": {\"additional\": \"info3\"}\n",
        "\n",
        "   },\n",
        "   {\n",
        "      \"id\":4,\n",
        "      \"text\":\"Ever want to make your LLM inference go brrrrr but got stuck at implementing speculative decoding and finding the suitable draft model? No more pain! Thrilled to unveil Medusa, a simple framework that removes the annoying draft model while getting 2x speedup.\",\n",
        "      \"meta\": {\"additional\": \"info4\"}\n",
        "   },\n",
        "   {\n",
        "      \"id\":5,\n",
        "      \"text\":\"vLLM is a fast and easy-to-use library for LLM inference and serving. vLLM is fast with: State-of-the-art serving throughput Efficient management of attention key and value memory with PagedAttention Continuous batching of incoming requests Optimized CUDA kernels\",\n",
        "      \"meta\": {\"additional\": \"info5\"}\n",
        "   }\n",
        "]\n",
        "\n",
        "rerankrequest = RerankRequest(query=query, passages=passages)\n",
        "results = ranker.rerank(rerankrequest)\n",
        "print(results)"
      ],
      "metadata": {
        "id": "WbiISp7UmFPj"
      },
      "execution_count": null,
      "outputs": []
    },
    {
      "cell_type": "code",
      "source": [
        "# from transformers import CrossEncoder\n",
        "\n",
        "# # Load a pre-trained cross-encoder model from Hugging Face\n",
        "# model_name = \"cross-encoder/ms-marco-MiniLM-L-12-v2\"\n",
        "# model = CrossEncoder(model_name)\n",
        "\n",
        "# # Define the query\n",
        "# query = \"galaxy\"\n",
        "\n",
        "# # Define the list of search results\n",
        "# search_results = [\n",
        "#     \"SM-S928WLBFXAC | Galaxy S24 Ultra (Online Exclusive) | Mobile | Smartphones | Galaxy S | 2023-12-12 00:00:00 | Meet the new Galaxy S24 Ultra, the smartphone packed with industry-leading camera, performance and world-changing Galaxy AI. Epic, just like that. | ['Made with titanium. Built to last', 'Industry-leading hardware meets innovative AI', '200MP high-resolution photography & hyper-realistic gameplay']\",\n",
        "#     \"SM-S928WZTFXAC | Galaxy S24 Ultra | Mobile | Smartphones | Galaxy S | 2023-12-11 00:00:00 | Meet the new Galaxy S24 Ultra, the smartphone packed with industry-leading camera, performance and world-changing Galaxy AI. Epic, just like that. | ['Made with titanium. Built to last', 'Industry-leading hardware meets innovative AI', '200MP high-resolution photography & hyper-realistic gameplay']\",\n",
        "#     \"SM-S921WLBEXAC | Galaxy S24 (Online Exclusive) | Mobile | Smartphones | Galaxy S | 2023-12-12 00:00:00 | Meet the new Galaxy S24 and S24+, the smartphones that are setting the new standard of mobile, now with Galaxy AI. Epic, just like that. | ['Shrunken bezels & satin-finished aluminum', 'Setting the new standard of mobile, now with Galaxy AI', 'Space Zoom for pixel-rich portraits & power for gameplay']\",\n",
        "#     \"SM-S926WZVEXAC | Galaxy S24+ | Mobile | Smartphones | Galaxy S | 2023-12-11 00:00:00 | Meet the new Galaxy S24 and S24+, the smartphones that are setting the new standard of mobile, now with Galaxy AI. Epic, just like that. | ['Shrunken bezels & satin-finished aluminum', 'Setting the new standard of mobile, now with Galaxy AI', 'Space Zoom for pixel-rich portraits & power for gameplay']\",\n",
        "#     \"SM-S926WLBEXAC | Galaxy S24+ (Online Exclusive) | Mobile | Smartphones | Galaxy S | 2023-12-11 00:00:00 | Meet the new Galaxy S24 and S24+, the smartphones that are setting the new standard of mobile, now with Galaxy AI. Epic, just like that. | ['Shrunken bezels & satin-finished aluminum', 'Setting the new standard of mobile, now with Galaxy AI', 'Space Zoom for pixel-rich portraits & power for gameplay']\"\n",
        "# ]\n",
        "\n",
        "# # Create pairs of query and search results\n",
        "# pairs = [(query, result) for result in search_results]\n",
        "\n",
        "# # Compute the relevance scores using the cross-encoder model\n",
        "# scores = model.predict(pairs)\n",
        "\n",
        "# # Combine results with their scores\n",
        "# results_with_scores = list(zip(search_results, scores))\n",
        "\n",
        "# # Sort the results by their scores in descending order\n",
        "# sorted_results = sorted(results_with_scores, key=lambda x: x[1], reverse=True)\n",
        "\n",
        "# # Output the sorted results with their scores\n",
        "# for result, score in sorted_results:\n",
        "#     print(f\"Relevance score: {score:.4f} | Search Result: {result}\")\n"
      ],
      "metadata": {
        "collapsed": true,
        "id": "bDBG2sRdmwBt"
      },
      "execution_count": 4,
      "outputs": []
    },
    {
      "cell_type": "code",
      "source": [
        "from sentence_transformers import CrossEncoder\n",
        "\n",
        "# Load a pre-trained cross-encoder model from Sentence Transformers\n",
        "model_name = \"cross-encoder/ms-marco-MiniLM-L-12-v2\"\n",
        "model = CrossEncoder(model_name)\n",
        "\n",
        "# Define the query\n",
        "query = \"galaxy\"\n",
        "\n",
        "# Define the list of search results\n",
        "search_results = [\n",
        "    \"SM-S928WLBFXAC | Galaxy S24 Ultra (Online Exclusive) | Mobile | Smartphones | Galaxy S | 2023-12-12 00:00:00 | Meet the new Galaxy S24 Ultra, the smartphone packed with industry-leading camera, performance and world-changing Galaxy AI. Epic, just like that. | ['Made with titanium. Built to last', 'Industry-leading hardware meets innovative AI', '200MP high-resolution photography & hyper-realistic gameplay']\",\n",
        "    \"SM-S928WZTFXAC | Galaxy S24 Ultra | Mobile | Smartphones | Galaxy S | 2023-12-11 00:00:00 | Meet the new Galaxy S24 Ultra, the smartphone packed with industry-leading camera, performance and world-changing Galaxy AI. Epic, just like that. | ['Made with titanium. Built to last', 'Industry-leading hardware meets innovative AI', '200MP high-resolution photography & hyper-realistic gameplay']\",\n",
        "    \"SM-S921WLBEXAC | Galaxy S24 (Online Exclusive) | Mobile | Smartphones | Galaxy S | 2023-12-12 00:00:00 | Meet the new Galaxy S24 and S24+, the smartphones that are setting the new standard of mobile, now with Galaxy AI. Epic, just like that. | ['Shrunken bezels & satin-finished aluminum', 'Setting the new standard of mobile, now with Galaxy AI', 'Space Zoom for pixel-rich portraits & power for gameplay']\",\n",
        "    \"SM-S926WZVEXAC | Galaxy S24+ | Mobile | Smartphones | Galaxy S | 2023-12-11 00:00:00 | Meet the new Galaxy S24 and S24+, the smartphones that are setting the new standard of mobile, now with Galaxy AI. Epic, just like that. | ['Shrunken bezels & satin-finished aluminum', 'Setting the new standard of mobile, now with Galaxy AI', 'Space Zoom for pixel-rich portraits & power for gameplay']\",\n",
        "    \"SM-S926WLBEXAC | Galaxy S24+ (Online Exclusive) | Mobile | Smartphones | Galaxy S | 2023-12-11 00:00:00 | Meet the new Galaxy S24 and S24+, the smartphones that are setting the new standard of mobile, now with Galaxy AI. Epic, just like that. | ['Shrunken bezels & satin-finished aluminum', 'Setting the new standard of mobile, now with Galaxy AI', 'Space Zoom for pixel-rich portraits & power for gameplay']\"\n",
        "]\n",
        "\n",
        "# Create pairs of query and search results\n",
        "pairs = [(query, result) for result in search_results]\n",
        "\n",
        "# Compute the relevance scores using the cross-encoder model\n",
        "scores = model.predict(pairs)\n",
        "\n",
        "# Combine results with their scores\n",
        "results_with_scores = list(zip(search_results, scores))\n",
        "\n",
        "# Sort the results by their scores in descending order\n",
        "sorted_results = sorted(results_with_scores, key=lambda x: x[1], reverse=True)\n",
        "\n",
        "# Output the sorted results with their scores\n",
        "for result, score in sorted_results:\n",
        "    print(f\"Relevance score: {score:.4f} | Search Result: {result}\")\n"
      ],
      "metadata": {
        "colab": {
          "base_uri": "https://localhost:8080/"
        },
        "id": "FyLhL3sEmxJA",
        "outputId": "af7d2dea-13c4-4a1b-c4df-54ccbbebbc07"
      },
      "execution_count": 10,
      "outputs": [
        {
          "output_type": "stream",
          "name": "stdout",
          "text": [
            "Relevance score: 2.9649 | Search Result: SM-S926WZVEXAC | Galaxy S24+ | Mobile | Smartphones | Galaxy S | 2023-12-11 00:00:00 | Meet the new Galaxy S24 and S24+, the smartphones that are setting the new standard of mobile, now with Galaxy AI. Epic, just like that. | ['Shrunken bezels & satin-finished aluminum', 'Setting the new standard of mobile, now with Galaxy AI', 'Space Zoom for pixel-rich portraits & power for gameplay']\n",
            "Relevance score: 2.7828 | Search Result: SM-S926WLBEXAC | Galaxy S24+ (Online Exclusive) | Mobile | Smartphones | Galaxy S | 2023-12-11 00:00:00 | Meet the new Galaxy S24 and S24+, the smartphones that are setting the new standard of mobile, now with Galaxy AI. Epic, just like that. | ['Shrunken bezels & satin-finished aluminum', 'Setting the new standard of mobile, now with Galaxy AI', 'Space Zoom for pixel-rich portraits & power for gameplay']\n",
            "Relevance score: 2.7708 | Search Result: SM-S921WLBEXAC | Galaxy S24 (Online Exclusive) | Mobile | Smartphones | Galaxy S | 2023-12-12 00:00:00 | Meet the new Galaxy S24 and S24+, the smartphones that are setting the new standard of mobile, now with Galaxy AI. Epic, just like that. | ['Shrunken bezels & satin-finished aluminum', 'Setting the new standard of mobile, now with Galaxy AI', 'Space Zoom for pixel-rich portraits & power for gameplay']\n",
            "Relevance score: 2.5244 | Search Result: SM-S928WZTFXAC | Galaxy S24 Ultra | Mobile | Smartphones | Galaxy S | 2023-12-11 00:00:00 | Meet the new Galaxy S24 Ultra, the smartphone packed with industry-leading camera, performance and world-changing Galaxy AI. Epic, just like that. | ['Made with titanium. Built to last', 'Industry-leading hardware meets innovative AI', '200MP high-resolution photography & hyper-realistic gameplay']\n",
            "Relevance score: 2.3220 | Search Result: SM-S928WLBFXAC | Galaxy S24 Ultra (Online Exclusive) | Mobile | Smartphones | Galaxy S | 2023-12-12 00:00:00 | Meet the new Galaxy S24 Ultra, the smartphone packed with industry-leading camera, performance and world-changing Galaxy AI. Epic, just like that. | ['Made with titanium. Built to last', 'Industry-leading hardware meets innovative AI', '200MP high-resolution photography & hyper-realistic gameplay']\n"
          ]
        }
      ]
    },
    {
      "cell_type": "code",
      "source": [
        "search_results = [\n",
        "    \"SM-S928WLBFXAC | Galaxy S24 Ultra (Online Exclusive) | Mobile | Smartphones | Galaxy S | 2023-12-12 00:00:00 | Meet the new Galaxy S24 Ultra, the smartphone packed with industry-leading camera, performance and world-changing Galaxy AI. Epic, just like that. | ['Made with titanium. Built to last', 'Industry-leading hardware meets innovative AI', '200MP high-resolution photography & hyper-realistic gameplay']\",\n",
        "    \"SM-S928WZTFXAC | Galaxy S24 Ultra | Mobile | Smartphones | Galaxy S | 2023-12-11 00:00:00 | Meet the new Galaxy S24 Ultra, the smartphone packed with industry-leading camera, performance and world-changing Galaxy AI. Epic, just like that. | ['Made with titanium. Built to last', 'Industry-leading hardware meets innovative AI', '200MP high-resolution photography & hyper-realistic gameplay']\",\n",
        "    \"SM-S921WLBEXAC | Galaxy S24 (Online Exclusive) | Mobile | Smartphones | Galaxy S | 2023-12-12 00:00:00 | Meet the new Galaxy S24 and S24+, the smartphones that are setting the new standard of mobile, now with Galaxy AI. Epic, just like that. | ['Shrunken bezels & satin-finished aluminum', 'Setting the new standard of mobile, now with Galaxy AI', 'Space Zoom for pixel-rich portraits & power for gameplay']\",\n",
        "    \"SM-S926WZVEXAC | Galaxy S24+ | Mobile | Smartphones | Galaxy S | 2023-12-11 00:00:00 | Meet the new Galaxy S24 and S24+, the smartphones that are setting the new standard of mobile, now with Galaxy AI. Epic, just like that. | ['Shrunken bezels & satin-finished aluminum', 'Setting the new standard of mobile, now with Galaxy AI', 'Space Zoom for pixel-rich portraits & power for gameplay']\",\n",
        "    \"SM-S926WLBEXAC | Galaxy S24+ (Online Exclusive) | Mobile | Smartphones | Galaxy S | 2023-12-11 00:00:00 | Meet the new Galaxy S24 and S24+, the smartphones that are setting the new standard of mobile, now with Galaxy AI. Epic, just like that. | ['Shrunken bezels & satin-finished aluminum', 'Setting the new standard of mobile, now with Galaxy AI', 'Space Zoom for pixel-rich portraits & power for gameplay']\",\n",
        "    \"EF-US921CTEGCA | Galaxy S24 Anti-Reflecting Screen Protector | Mobile | Accessories | Screen Protector | 2023-12-07 00:00:00 | Keep your Galaxy S24's screen crystal clear with our Anti-Reflecting Screen Protector. Enjoy superb transparency and enhanced screen safety. | ['Extra layer of protection', 'Superb transparency']\",\n",
        "    \"EF-US928CTEGCA | Galaxy S24 Ultra Anti-Reflecting Screen Protector | Mobile | Accessories | Screen Protector | 2023-12-08 00:00:00 | Keep your Galaxy S24 Ultra screen crystal clear with our Anti-Reflecting Screen Protector. Enjoy superb transparency and extra screen protection. | ['Extra layer of protection', 'Superb transparency']\",\n",
        "    \"EF-US926CTEGCA | Galaxy S24+ Anti-Reflecting Screen Protector | Mobile | Accessories | Screen Protector | 2023-12-08 00:00:00 | Keep your Galaxy S24 Plus screen crystal clear with our Anti-Reflecting Screen Protector. Enjoy superb transparency and enhanced screen safety. | ['Extra layer of protection', 'Superb transparency']\",\n",
        "    \"EF-UA356CTEGCA | Galaxy A35 5G Screen Protector | Mobile | Accessories | Screen Protector | 2024-04-18 00:00:00 | Galaxy A35 5G Screen Protector (EF-UA356CTEGCA) - Shop Samsung.com and learn more about price and offers on Accessories at Samsung Canada | ['Quick and easy applicator', 'Transparent protection', 'Added shield of protection']\",\n",
        "    \"EF-US711CTEGCA | Galaxy S23 FE Screen Protector | Mobile | Accessories | Screen Protector | 2023-10-27 00:00:00 | Protect your screen while enjoying the original responsive touch with the S23 FE Screen Protector, featuring an anti-scratch and anti-finger coating. | ['Quick and easy installation', 'Quality defense', 'Added shield of protection']\",\n",
        "    \"WA54CG7550AVA4 | 6.2 cu. ft. 7550 Series Top Load Washer with Auto Dispense System | Home Appliances | Laundry | Washing Machines | 2023-08-15 00:00:00 | 6.2 cu. ft. 7550 Series Top Load Washer with Auto Dispense System (WA54CG7550AVA4) - Explore the features and specifications and learn more about our Laundry at Samsung Canada. | [\\\"Keep your clothes and your pet's bedding clean. Remove 6X time more pet hair* with a new Pet Care Wash Cycle. \\\", 'A built-in water faucet lets you easily pretreat soiled or heavily stained clothes with a press of a button.<br/><br/><a href=\\\"https://www.samsung.com/ca/laundry/washing-machines/wa7550c-top-load-auto-dispense-large-capacity-6-2-cu-ft-black-wa54cg7550ava4/#HowtoMeasure5\\\" style=\\\"color:blue\\\">Click to see product dimensions</a>', 'Conveniently stores and automatically dispenses up to 12 loads of detergent and softener.']\",\n",
        "    \"WA54CG7150ADA4 | 6.2 cu. ft. 7150 Series Top Load Washer with Pet Care Solution | Home Appliances | Laundry | Washing Machines | 2023-08-15 00:00:00 | 6.2 cu. ft. 7150 Series Top Load Washer with Pet Care Solution (WA54CG7150ADA4) - Explore the features and specifications and learn more about our Laundry at Samsung Canada. | ['Wash a full load in 28 minutes', 'Large Capacity (6.2 cu. ft.)', 'Remove 6x times more pet hair* with Pet Care cycle and dual pet hair filters.']\",\n",
        "    \"WA50A5400AV/A4 | 5.8 Cu.Ft. Top Load Washer with SmartThings | Home Appliances | Laundry | Washing Machines | 2021-03-31 00:00:00 | Upgrade your laundry game with the Samsung WA7000R. With SmartThings and a spacious 5.8 cu. ft. capacity, it's the ultimate washing machine for any household. | ['EZ Access Design for effortless loading and unloading', 'Control & monitor remotely through SmartThings app', 'Wash a full load in 36 minutes with SuperSpeed']\",\n",
        "    \"DVE50A5405V/AC | 7.4 Cu.Ft. Electric Dryer with Steam | Home Appliances | Laundry | Dryers | 2021-03-31 00:00:00 | Experience the convenience of smart laundry with the DV7000R dryer. Buy now and enjoy 7.4 cubic feet of capacity and SmartThings compatibility. | ['Steam Sanitize+ helps remove bacteria, pollen, and dust mites.', 'Remotely control & monitor the dryer through SmartThings app', 'Large 7.4 cu. ft. Capacity']\",\n",
        "    \"VCA-SBT90/XAA | Replacement Li-ion Battery for Samsung Jet 90 Stick Vacuum | Home Appliances | Home Appliance Accessories | Vacuum Cleaners Battery | 2021-02-26 00:00:00 | Replacement Li-ion Battery for Samsung Jet 90 Stick Vacuum VCA-SBT90/XAA - Explore the features and specifications and learn more about our Home Appliance Accessories at Samsung Canada. | ['Compatible with Jet 90 Stick Vacuum <a href=\\\"https://www.samsung.com/ca/vacuum-cleaners/stick/vs9000rl-super-powerful-clean-silver-vs20r9046t3-aa/\\\">VS20R9046T3/AA</a>', 'Clean up to 1 hour', 'Removable and longer-lasting Battery']\",\n",
        "    \"VG-FBB3BA/ZA | The Freestyle Battery Base | Television | Projector Accessories | The Freestyle Battery Base | 2022-06-10 00:00:00 | The Freestyle Battery Base (VG-FBB3BA/ZA) - Explore the features and specifications and learn more about our Projector Accessories at Samsung Canada. | ['Design that complements The Freestyle', 'Support for smartphone charging', 'High capacity 32,000mAh battery']\",\n",
        "    \"VCA-SBTA60/XAA | Jet 60 Battery Replacement | Home Appliances | Home Appliance Accessories | Others | 2022-07-05 00:00:00 | Jet 60 Battery Replacement (VCA-SBTA60/XAA) - Explore the features and specifications and learn more about our Home Appliance Accessories at Samsung Canada. | []\",\n",
        "    \"ME21DG6300SRAC | 2.1 cu.ft Over the Range Microwave with Finger Print Resistant Finish | Home Appliances | Microwave Ovens | Over-The-Range | 2024-03-25 00:00:00 | 2.1 cu.ft Over the Range Microwave with Finger Print Resistant Finish (ME21DG6300SRAC) - Explore the features and specifications and learn more about our Microwave Ovens at Samsung Canada. | ['Combined control of both cooktop & hood', 'Automatically simple cooking', 'Do the SmartThings at Home']\",\n",
        "    \"ME21B706B12/AC | 2.1 cu.ft. Over-the-Range Microwave with 400 CFM and Glass Touch Control | Home Appliances | Microwave Ovens | Over-The-Range | 2017-11-21 00:00:00 | 2.1 cu.ft. Over-the-Range Microwave with 400 CFM and Glass Touch Control (ME21B706B12/AC) - Explore the features and specifications and learn more about our Microwave Ovens at Samsung Canada. | ['LED cooktop lighting ', 'Precise Glass Touch Control', 'Simple Clean Filter']\",\n",
        "    \"ME17R7021EW/AC | 1.7 cu.ft. Over-the-Range Microwave with 300 CFM | Home Appliances | Microwave Ovens | Over-The-Range | 2021-04-22 00:00:00 | ME4000R OTR with New Door, Flat Handle (ME17R7021EW/AC) - Explore the features and specifications and learn more about our Microwave Ovens at Samsung Canada. | ['No unsightly marks', 'Harmonious design', 'Fresh air in a flash']\",\n",
        "    \"ME11A7510DG/AC | 1.1 cu.ft. Slim Over the Range Microwave with 400CFM | Home Appliances | Microwave Ovens | Over-The-Range | 2021-08-11 00:00:00 | 1.1 cu.ft. Slim Over the Range Microwave with 400CFM (ME11A7510DG/AC) - Explore the features and specifications and learn more about our Microwave Ovens at Samsung Canada. | ['1000W microwave power for quick and efficient cooking', 'Slim, space saving design ', '400 cu.ft. per minute suction capacity helps keep air fresh']\",\n",
        "    \"ME11A7710DG/AC | 1.1 cu.ft. Slim Over the Range Microwave with 550CFM | Home Appliances | Microwave Ovens | Over-The-Range | 2021-08-11 00:00:00 | 1.1 cu.ft. Slim Over the Range Microwave with 550CFM (ME11A7710DG/AC) - Explore the features and specifications and learn more about our Microwave Ovens at Samsung Canada. | ['Space you want, power you need', 'Powerful suction capacity', 'Space-saving design']\"\n",
        "]"
      ],
      "metadata": {
        "id": "GzDAYzPZeZZl"
      },
      "execution_count": 11,
      "outputs": []
    },
    {
      "cell_type": "code",
      "source": [
        "# Define the query\n",
        "query = \"screen\"\n",
        "\n",
        "# Define the list of search results\n",
        "# search_results = [\n",
        "\n",
        "\n",
        "# ]\n",
        "\n",
        "# Create pairs of query and search results\n",
        "pairs = [(query, result) for result in search_results]\n",
        "\n",
        "# Compute the relevance scores using the cross-encoder model\n",
        "scores = model.predict(pairs)\n",
        "\n",
        "# Combine results with their scores\n",
        "results_with_scores = list(zip(search_results, scores))\n",
        "\n",
        "# Sort the results by their scores in descending order\n",
        "sorted_results = sorted(results_with_scores, key=lambda x: x[1], reverse=True)\n",
        "\n",
        "# Output the sorted results with their scores\n",
        "for result, score in sorted_results:\n",
        "    print(f\"Relevance score: {score:.4f} | Search Result: {result}\")\n"
      ],
      "metadata": {
        "colab": {
          "base_uri": "https://localhost:8080/"
        },
        "id": "lrF8woWAneC9",
        "outputId": "525c2d99-871b-4dee-d8c8-949906e4cb38"
      },
      "execution_count": 12,
      "outputs": [
        {
          "output_type": "stream",
          "name": "stdout",
          "text": [
            "Relevance score: -0.9423 | Search Result: EF-US711CTEGCA | Galaxy S23 FE Screen Protector | Mobile | Accessories | Screen Protector | 2023-10-27 00:00:00 | Protect your screen while enjoying the original responsive touch with the S23 FE Screen Protector, featuring an anti-scratch and anti-finger coating. | ['Quick and easy installation', 'Quality defense', 'Added shield of protection']\n",
            "Relevance score: -1.2276 | Search Result: EF-US921CTEGCA | Galaxy S24 Anti-Reflecting Screen Protector | Mobile | Accessories | Screen Protector | 2023-12-07 00:00:00 | Keep your Galaxy S24's screen crystal clear with our Anti-Reflecting Screen Protector. Enjoy superb transparency and enhanced screen safety. | ['Extra layer of protection', 'Superb transparency']\n",
            "Relevance score: -1.2603 | Search Result: EF-US926CTEGCA | Galaxy S24+ Anti-Reflecting Screen Protector | Mobile | Accessories | Screen Protector | 2023-12-08 00:00:00 | Keep your Galaxy S24 Plus screen crystal clear with our Anti-Reflecting Screen Protector. Enjoy superb transparency and enhanced screen safety. | ['Extra layer of protection', 'Superb transparency']\n",
            "Relevance score: -1.3551 | Search Result: EF-US928CTEGCA | Galaxy S24 Ultra Anti-Reflecting Screen Protector | Mobile | Accessories | Screen Protector | 2023-12-08 00:00:00 | Keep your Galaxy S24 Ultra screen crystal clear with our Anti-Reflecting Screen Protector. Enjoy superb transparency and extra screen protection. | ['Extra layer of protection', 'Superb transparency']\n",
            "Relevance score: -1.6709 | Search Result: EF-UA356CTEGCA | Galaxy A35 5G Screen Protector | Mobile | Accessories | Screen Protector | 2024-04-18 00:00:00 | Galaxy A35 5G Screen Protector (EF-UA356CTEGCA) - Shop Samsung.com and learn more about price and offers on Accessories at Samsung Canada | ['Quick and easy applicator', 'Transparent protection', 'Added shield of protection']\n",
            "Relevance score: -8.5384 | Search Result: WA54CG7550AVA4 | 6.2 cu. ft. 7550 Series Top Load Washer with Auto Dispense System | Home Appliances | Laundry | Washing Machines | 2023-08-15 00:00:00 | 6.2 cu. ft. 7550 Series Top Load Washer with Auto Dispense System (WA54CG7550AVA4) - Explore the features and specifications and learn more about our Laundry at Samsung Canada. | [\"Keep your clothes and your pet's bedding clean. Remove 6X time more pet hair* with a new Pet Care Wash Cycle. \", 'A built-in water faucet lets you easily pretreat soiled or heavily stained clothes with a press of a button.<br/><br/><a href=\"https://www.samsung.com/ca/laundry/washing-machines/wa7550c-top-load-auto-dispense-large-capacity-6-2-cu-ft-black-wa54cg7550ava4/#HowtoMeasure5\" style=\"color:blue\">Click to see product dimensions</a>', 'Conveniently stores and automatically dispenses up to 12 loads of detergent and softener.']\n",
            "Relevance score: -9.1050 | Search Result: VG-FBB3BA/ZA | The Freestyle Battery Base | Television | Projector Accessories | The Freestyle Battery Base | 2022-06-10 00:00:00 | The Freestyle Battery Base (VG-FBB3BA/ZA) - Explore the features and specifications and learn more about our Projector Accessories at Samsung Canada. | ['Design that complements The Freestyle', 'Support for smartphone charging', 'High capacity 32,000mAh battery']\n",
            "Relevance score: -9.1108 | Search Result: SM-S921WLBEXAC | Galaxy S24 (Online Exclusive) | Mobile | Smartphones | Galaxy S | 2023-12-12 00:00:00 | Meet the new Galaxy S24 and S24+, the smartphones that are setting the new standard of mobile, now with Galaxy AI. Epic, just like that. | ['Shrunken bezels & satin-finished aluminum', 'Setting the new standard of mobile, now with Galaxy AI', 'Space Zoom for pixel-rich portraits & power for gameplay']\n",
            "Relevance score: -9.1432 | Search Result: SM-S926WZVEXAC | Galaxy S24+ | Mobile | Smartphones | Galaxy S | 2023-12-11 00:00:00 | Meet the new Galaxy S24 and S24+, the smartphones that are setting the new standard of mobile, now with Galaxy AI. Epic, just like that. | ['Shrunken bezels & satin-finished aluminum', 'Setting the new standard of mobile, now with Galaxy AI', 'Space Zoom for pixel-rich portraits & power for gameplay']\n",
            "Relevance score: -9.2664 | Search Result: SM-S926WLBEXAC | Galaxy S24+ (Online Exclusive) | Mobile | Smartphones | Galaxy S | 2023-12-11 00:00:00 | Meet the new Galaxy S24 and S24+, the smartphones that are setting the new standard of mobile, now with Galaxy AI. Epic, just like that. | ['Shrunken bezels & satin-finished aluminum', 'Setting the new standard of mobile, now with Galaxy AI', 'Space Zoom for pixel-rich portraits & power for gameplay']\n",
            "Relevance score: -9.5588 | Search Result: SM-S928WLBFXAC | Galaxy S24 Ultra (Online Exclusive) | Mobile | Smartphones | Galaxy S | 2023-12-12 00:00:00 | Meet the new Galaxy S24 Ultra, the smartphone packed with industry-leading camera, performance and world-changing Galaxy AI. Epic, just like that. | ['Made with titanium. Built to last', 'Industry-leading hardware meets innovative AI', '200MP high-resolution photography & hyper-realistic gameplay']\n",
            "Relevance score: -9.6021 | Search Result: VCA-SBT90/XAA | Replacement Li-ion Battery for Samsung Jet 90 Stick Vacuum | Home Appliances | Home Appliance Accessories | Vacuum Cleaners Battery | 2021-02-26 00:00:00 | Replacement Li-ion Battery for Samsung Jet 90 Stick Vacuum VCA-SBT90/XAA - Explore the features and specifications and learn more about our Home Appliance Accessories at Samsung Canada. | ['Compatible with Jet 90 Stick Vacuum <a href=\"https://www.samsung.com/ca/vacuum-cleaners/stick/vs9000rl-super-powerful-clean-silver-vs20r9046t3-aa/\">VS20R9046T3/AA</a>', 'Clean up to 1 hour', 'Removable and longer-lasting Battery']\n",
            "Relevance score: -9.7209 | Search Result: SM-S928WZTFXAC | Galaxy S24 Ultra | Mobile | Smartphones | Galaxy S | 2023-12-11 00:00:00 | Meet the new Galaxy S24 Ultra, the smartphone packed with industry-leading camera, performance and world-changing Galaxy AI. Epic, just like that. | ['Made with titanium. Built to last', 'Industry-leading hardware meets innovative AI', '200MP high-resolution photography & hyper-realistic gameplay']\n",
            "Relevance score: -9.8771 | Search Result: ME21B706B12/AC | 2.1 cu.ft. Over-the-Range Microwave with 400 CFM and Glass Touch Control | Home Appliances | Microwave Ovens | Over-The-Range | 2017-11-21 00:00:00 | 2.1 cu.ft. Over-the-Range Microwave with 400 CFM and Glass Touch Control (ME21B706B12/AC) - Explore the features and specifications and learn more about our Microwave Ovens at Samsung Canada. | ['LED cooktop lighting ', 'Precise Glass Touch Control', 'Simple Clean Filter']\n",
            "Relevance score: -9.9025 | Search Result: WA54CG7150ADA4 | 6.2 cu. ft. 7150 Series Top Load Washer with Pet Care Solution | Home Appliances | Laundry | Washing Machines | 2023-08-15 00:00:00 | 6.2 cu. ft. 7150 Series Top Load Washer with Pet Care Solution (WA54CG7150ADA4) - Explore the features and specifications and learn more about our Laundry at Samsung Canada. | ['Wash a full load in 28 minutes', 'Large Capacity (6.2 cu. ft.)', 'Remove 6x times more pet hair* with Pet Care cycle and dual pet hair filters.']\n",
            "Relevance score: -9.9074 | Search Result: WA50A5400AV/A4 | 5.8 Cu.Ft. Top Load Washer with SmartThings | Home Appliances | Laundry | Washing Machines | 2021-03-31 00:00:00 | Upgrade your laundry game with the Samsung WA7000R. With SmartThings and a spacious 5.8 cu. ft. capacity, it's the ultimate washing machine for any household. | ['EZ Access Design for effortless loading and unloading', 'Control & monitor remotely through SmartThings app', 'Wash a full load in 36 minutes with SuperSpeed']\n",
            "Relevance score: -10.0115 | Search Result: DVE50A5405V/AC | 7.4 Cu.Ft. Electric Dryer with Steam | Home Appliances | Laundry | Dryers | 2021-03-31 00:00:00 | Experience the convenience of smart laundry with the DV7000R dryer. Buy now and enjoy 7.4 cubic feet of capacity and SmartThings compatibility. | ['Steam Sanitize+ helps remove bacteria, pollen, and dust mites.', 'Remotely control & monitor the dryer through SmartThings app', 'Large 7.4 cu. ft. Capacity']\n",
            "Relevance score: -10.1354 | Search Result: ME17R7021EW/AC | 1.7 cu.ft. Over-the-Range Microwave with 300 CFM | Home Appliances | Microwave Ovens | Over-The-Range | 2021-04-22 00:00:00 | ME4000R OTR with New Door, Flat Handle (ME17R7021EW/AC) - Explore the features and specifications and learn more about our Microwave Ovens at Samsung Canada. | ['No unsightly marks', 'Harmonious design', 'Fresh air in a flash']\n",
            "Relevance score: -10.2102 | Search Result: ME21DG6300SRAC | 2.1 cu.ft Over the Range Microwave with Finger Print Resistant Finish | Home Appliances | Microwave Ovens | Over-The-Range | 2024-03-25 00:00:00 | 2.1 cu.ft Over the Range Microwave with Finger Print Resistant Finish (ME21DG6300SRAC) - Explore the features and specifications and learn more about our Microwave Ovens at Samsung Canada. | ['Combined control of both cooktop & hood', 'Automatically simple cooking', 'Do the SmartThings at Home']\n",
            "Relevance score: -10.2922 | Search Result: ME11A7510DG/AC | 1.1 cu.ft. Slim Over the Range Microwave with 400CFM | Home Appliances | Microwave Ovens | Over-The-Range | 2021-08-11 00:00:00 | 1.1 cu.ft. Slim Over the Range Microwave with 400CFM (ME11A7510DG/AC) - Explore the features and specifications and learn more about our Microwave Ovens at Samsung Canada. | ['1000W microwave power for quick and efficient cooking', 'Slim, space saving design ', '400 cu.ft. per minute suction capacity helps keep air fresh']\n",
            "Relevance score: -10.4210 | Search Result: VCA-SBTA60/XAA | Jet 60 Battery Replacement | Home Appliances | Home Appliance Accessories | Others | 2022-07-05 00:00:00 | Jet 60 Battery Replacement (VCA-SBTA60/XAA) - Explore the features and specifications and learn more about our Home Appliance Accessories at Samsung Canada. | []\n",
            "Relevance score: -10.5392 | Search Result: ME11A7710DG/AC | 1.1 cu.ft. Slim Over the Range Microwave with 550CFM | Home Appliances | Microwave Ovens | Over-The-Range | 2021-08-11 00:00:00 | 1.1 cu.ft. Slim Over the Range Microwave with 550CFM (ME11A7710DG/AC) - Explore the features and specifications and learn more about our Microwave Ovens at Samsung Canada. | ['Space you want, power you need', 'Powerful suction capacity', 'Space-saving design']\n"
          ]
        }
      ]
    },
    {
      "cell_type": "code",
      "source": [
        "# Define the query\n",
        "query = \"screen\"\n",
        "\n",
        "# Define the list of search results\n",
        "# search_results = [\n",
        "#     \"EF-US921CTEGCA | Galaxy S24 Anti-Reflecting Screen Protector | Mobile | Accessories | Screen Protector | 2023-12-07 00:00:00 | Keep your Galaxy S24's screen crystal clear with our Anti-Reflecting Screen Protector. Enjoy superb transparency and enhanced screen safety. | ['Extra layer of protection', 'Superb transparency']\",\n",
        "#     \"EF-US928CTEGCA | Galaxy S24 Ultra Anti-Reflecting Screen Protector | Mobile | Accessories | Screen Protector | 2023-12-08 00:00:00 | Keep your Galaxy S24 Ultra screen crystal clear with our Anti-Reflecting Screen Protector. Enjoy superb transparency and extra screen protection. | ['Extra layer of protection', 'Superb transparency']\",\n",
        "#     \"EF-US926CTEGCA | Galaxy S24+ Anti-Reflecting Screen Protector | Mobile | Accessories | Screen Protector | 2023-12-08 00:00:00 | Keep your Galaxy S24 Plus screen crystal clear with our Anti-Reflecting Screen Protector. Enjoy superb transparency and enhanced screen safety. | ['Extra layer of protection', 'Superb transparency']\",\n",
        "#     \"EF-UA356CTEGCA | Galaxy A35 5G Screen Protector | Mobile | Accessories | Screen Protector | 2024-04-18 00:00:00 | Galaxy A35 5G Screen Protector (EF-UA356CTEGCA) - Shop Samsung.com and learn more about price and offers on Accessories at Samsung Canada | ['Quick and easy applicator', 'Transparent protection', 'Added shield of protection']\",\n",
        "#     \"EF-US711CTEGCA | Galaxy S23 FE Screen Protector | Mobile | Accessories | Screen Protector | 2023-10-27 00:00:00 | Protect your screen while enjoying the original responsive touch with the S23 FE Screen Protector, featuring an anti-scratch and anti-finger coating. | ['Quick and easy installation', 'Quality defense', 'Added shield of protection']\"\n",
        "# ]\n",
        "\n",
        "\n",
        "# Create pairs of query and search results\n",
        "pairs = [(query, result) for result in search_results]\n",
        "\n",
        "# Compute the relevance scores using the cross-encoder model\n",
        "scores = model.predict(pairs)\n",
        "\n",
        "# Combine results with their scores\n",
        "results_with_scores = list(zip(search_results, scores))\n",
        "\n",
        "# Sort the results by their scores in descending order\n",
        "sorted_results = sorted(results_with_scores, key=lambda x: x[1], reverse=True)\n",
        "\n",
        "# Output the sorted results with their scores\n",
        "for result, score in sorted_results:\n",
        "    print(f\"Relevance score: {score:.4f} | Search Result: {result}\")\n"
      ],
      "metadata": {
        "colab": {
          "base_uri": "https://localhost:8080/"
        },
        "id": "Ji3tu-I2orYy",
        "outputId": "48f226cd-dafd-4a00-a46c-abfa064d440f"
      },
      "execution_count": 13,
      "outputs": [
        {
          "output_type": "stream",
          "name": "stdout",
          "text": [
            "Relevance score: -0.9423 | Search Result: EF-US711CTEGCA | Galaxy S23 FE Screen Protector | Mobile | Accessories | Screen Protector | 2023-10-27 00:00:00 | Protect your screen while enjoying the original responsive touch with the S23 FE Screen Protector, featuring an anti-scratch and anti-finger coating. | ['Quick and easy installation', 'Quality defense', 'Added shield of protection']\n",
            "Relevance score: -1.2276 | Search Result: EF-US921CTEGCA | Galaxy S24 Anti-Reflecting Screen Protector | Mobile | Accessories | Screen Protector | 2023-12-07 00:00:00 | Keep your Galaxy S24's screen crystal clear with our Anti-Reflecting Screen Protector. Enjoy superb transparency and enhanced screen safety. | ['Extra layer of protection', 'Superb transparency']\n",
            "Relevance score: -1.2603 | Search Result: EF-US926CTEGCA | Galaxy S24+ Anti-Reflecting Screen Protector | Mobile | Accessories | Screen Protector | 2023-12-08 00:00:00 | Keep your Galaxy S24 Plus screen crystal clear with our Anti-Reflecting Screen Protector. Enjoy superb transparency and enhanced screen safety. | ['Extra layer of protection', 'Superb transparency']\n",
            "Relevance score: -1.3551 | Search Result: EF-US928CTEGCA | Galaxy S24 Ultra Anti-Reflecting Screen Protector | Mobile | Accessories | Screen Protector | 2023-12-08 00:00:00 | Keep your Galaxy S24 Ultra screen crystal clear with our Anti-Reflecting Screen Protector. Enjoy superb transparency and extra screen protection. | ['Extra layer of protection', 'Superb transparency']\n",
            "Relevance score: -1.6709 | Search Result: EF-UA356CTEGCA | Galaxy A35 5G Screen Protector | Mobile | Accessories | Screen Protector | 2024-04-18 00:00:00 | Galaxy A35 5G Screen Protector (EF-UA356CTEGCA) - Shop Samsung.com and learn more about price and offers on Accessories at Samsung Canada | ['Quick and easy applicator', 'Transparent protection', 'Added shield of protection']\n",
            "Relevance score: -8.5384 | Search Result: WA54CG7550AVA4 | 6.2 cu. ft. 7550 Series Top Load Washer with Auto Dispense System | Home Appliances | Laundry | Washing Machines | 2023-08-15 00:00:00 | 6.2 cu. ft. 7550 Series Top Load Washer with Auto Dispense System (WA54CG7550AVA4) - Explore the features and specifications and learn more about our Laundry at Samsung Canada. | [\"Keep your clothes and your pet's bedding clean. Remove 6X time more pet hair* with a new Pet Care Wash Cycle. \", 'A built-in water faucet lets you easily pretreat soiled or heavily stained clothes with a press of a button.<br/><br/><a href=\"https://www.samsung.com/ca/laundry/washing-machines/wa7550c-top-load-auto-dispense-large-capacity-6-2-cu-ft-black-wa54cg7550ava4/#HowtoMeasure5\" style=\"color:blue\">Click to see product dimensions</a>', 'Conveniently stores and automatically dispenses up to 12 loads of detergent and softener.']\n",
            "Relevance score: -9.1050 | Search Result: VG-FBB3BA/ZA | The Freestyle Battery Base | Television | Projector Accessories | The Freestyle Battery Base | 2022-06-10 00:00:00 | The Freestyle Battery Base (VG-FBB3BA/ZA) - Explore the features and specifications and learn more about our Projector Accessories at Samsung Canada. | ['Design that complements The Freestyle', 'Support for smartphone charging', 'High capacity 32,000mAh battery']\n",
            "Relevance score: -9.1108 | Search Result: SM-S921WLBEXAC | Galaxy S24 (Online Exclusive) | Mobile | Smartphones | Galaxy S | 2023-12-12 00:00:00 | Meet the new Galaxy S24 and S24+, the smartphones that are setting the new standard of mobile, now with Galaxy AI. Epic, just like that. | ['Shrunken bezels & satin-finished aluminum', 'Setting the new standard of mobile, now with Galaxy AI', 'Space Zoom for pixel-rich portraits & power for gameplay']\n",
            "Relevance score: -9.1432 | Search Result: SM-S926WZVEXAC | Galaxy S24+ | Mobile | Smartphones | Galaxy S | 2023-12-11 00:00:00 | Meet the new Galaxy S24 and S24+, the smartphones that are setting the new standard of mobile, now with Galaxy AI. Epic, just like that. | ['Shrunken bezels & satin-finished aluminum', 'Setting the new standard of mobile, now with Galaxy AI', 'Space Zoom for pixel-rich portraits & power for gameplay']\n",
            "Relevance score: -9.2664 | Search Result: SM-S926WLBEXAC | Galaxy S24+ (Online Exclusive) | Mobile | Smartphones | Galaxy S | 2023-12-11 00:00:00 | Meet the new Galaxy S24 and S24+, the smartphones that are setting the new standard of mobile, now with Galaxy AI. Epic, just like that. | ['Shrunken bezels & satin-finished aluminum', 'Setting the new standard of mobile, now with Galaxy AI', 'Space Zoom for pixel-rich portraits & power for gameplay']\n",
            "Relevance score: -9.5588 | Search Result: SM-S928WLBFXAC | Galaxy S24 Ultra (Online Exclusive) | Mobile | Smartphones | Galaxy S | 2023-12-12 00:00:00 | Meet the new Galaxy S24 Ultra, the smartphone packed with industry-leading camera, performance and world-changing Galaxy AI. Epic, just like that. | ['Made with titanium. Built to last', 'Industry-leading hardware meets innovative AI', '200MP high-resolution photography & hyper-realistic gameplay']\n",
            "Relevance score: -9.6021 | Search Result: VCA-SBT90/XAA | Replacement Li-ion Battery for Samsung Jet 90 Stick Vacuum | Home Appliances | Home Appliance Accessories | Vacuum Cleaners Battery | 2021-02-26 00:00:00 | Replacement Li-ion Battery for Samsung Jet 90 Stick Vacuum VCA-SBT90/XAA - Explore the features and specifications and learn more about our Home Appliance Accessories at Samsung Canada. | ['Compatible with Jet 90 Stick Vacuum <a href=\"https://www.samsung.com/ca/vacuum-cleaners/stick/vs9000rl-super-powerful-clean-silver-vs20r9046t3-aa/\">VS20R9046T3/AA</a>', 'Clean up to 1 hour', 'Removable and longer-lasting Battery']\n",
            "Relevance score: -9.7209 | Search Result: SM-S928WZTFXAC | Galaxy S24 Ultra | Mobile | Smartphones | Galaxy S | 2023-12-11 00:00:00 | Meet the new Galaxy S24 Ultra, the smartphone packed with industry-leading camera, performance and world-changing Galaxy AI. Epic, just like that. | ['Made with titanium. Built to last', 'Industry-leading hardware meets innovative AI', '200MP high-resolution photography & hyper-realistic gameplay']\n",
            "Relevance score: -9.8771 | Search Result: ME21B706B12/AC | 2.1 cu.ft. Over-the-Range Microwave with 400 CFM and Glass Touch Control | Home Appliances | Microwave Ovens | Over-The-Range | 2017-11-21 00:00:00 | 2.1 cu.ft. Over-the-Range Microwave with 400 CFM and Glass Touch Control (ME21B706B12/AC) - Explore the features and specifications and learn more about our Microwave Ovens at Samsung Canada. | ['LED cooktop lighting ', 'Precise Glass Touch Control', 'Simple Clean Filter']\n",
            "Relevance score: -9.9025 | Search Result: WA54CG7150ADA4 | 6.2 cu. ft. 7150 Series Top Load Washer with Pet Care Solution | Home Appliances | Laundry | Washing Machines | 2023-08-15 00:00:00 | 6.2 cu. ft. 7150 Series Top Load Washer with Pet Care Solution (WA54CG7150ADA4) - Explore the features and specifications and learn more about our Laundry at Samsung Canada. | ['Wash a full load in 28 minutes', 'Large Capacity (6.2 cu. ft.)', 'Remove 6x times more pet hair* with Pet Care cycle and dual pet hair filters.']\n",
            "Relevance score: -9.9074 | Search Result: WA50A5400AV/A4 | 5.8 Cu.Ft. Top Load Washer with SmartThings | Home Appliances | Laundry | Washing Machines | 2021-03-31 00:00:00 | Upgrade your laundry game with the Samsung WA7000R. With SmartThings and a spacious 5.8 cu. ft. capacity, it's the ultimate washing machine for any household. | ['EZ Access Design for effortless loading and unloading', 'Control & monitor remotely through SmartThings app', 'Wash a full load in 36 minutes with SuperSpeed']\n",
            "Relevance score: -10.0115 | Search Result: DVE50A5405V/AC | 7.4 Cu.Ft. Electric Dryer with Steam | Home Appliances | Laundry | Dryers | 2021-03-31 00:00:00 | Experience the convenience of smart laundry with the DV7000R dryer. Buy now and enjoy 7.4 cubic feet of capacity and SmartThings compatibility. | ['Steam Sanitize+ helps remove bacteria, pollen, and dust mites.', 'Remotely control & monitor the dryer through SmartThings app', 'Large 7.4 cu. ft. Capacity']\n",
            "Relevance score: -10.1354 | Search Result: ME17R7021EW/AC | 1.7 cu.ft. Over-the-Range Microwave with 300 CFM | Home Appliances | Microwave Ovens | Over-The-Range | 2021-04-22 00:00:00 | ME4000R OTR with New Door, Flat Handle (ME17R7021EW/AC) - Explore the features and specifications and learn more about our Microwave Ovens at Samsung Canada. | ['No unsightly marks', 'Harmonious design', 'Fresh air in a flash']\n",
            "Relevance score: -10.2102 | Search Result: ME21DG6300SRAC | 2.1 cu.ft Over the Range Microwave with Finger Print Resistant Finish | Home Appliances | Microwave Ovens | Over-The-Range | 2024-03-25 00:00:00 | 2.1 cu.ft Over the Range Microwave with Finger Print Resistant Finish (ME21DG6300SRAC) - Explore the features and specifications and learn more about our Microwave Ovens at Samsung Canada. | ['Combined control of both cooktop & hood', 'Automatically simple cooking', 'Do the SmartThings at Home']\n",
            "Relevance score: -10.2922 | Search Result: ME11A7510DG/AC | 1.1 cu.ft. Slim Over the Range Microwave with 400CFM | Home Appliances | Microwave Ovens | Over-The-Range | 2021-08-11 00:00:00 | 1.1 cu.ft. Slim Over the Range Microwave with 400CFM (ME11A7510DG/AC) - Explore the features and specifications and learn more about our Microwave Ovens at Samsung Canada. | ['1000W microwave power for quick and efficient cooking', 'Slim, space saving design ', '400 cu.ft. per minute suction capacity helps keep air fresh']\n",
            "Relevance score: -10.4210 | Search Result: VCA-SBTA60/XAA | Jet 60 Battery Replacement | Home Appliances | Home Appliance Accessories | Others | 2022-07-05 00:00:00 | Jet 60 Battery Replacement (VCA-SBTA60/XAA) - Explore the features and specifications and learn more about our Home Appliance Accessories at Samsung Canada. | []\n",
            "Relevance score: -10.5392 | Search Result: ME11A7710DG/AC | 1.1 cu.ft. Slim Over the Range Microwave with 550CFM | Home Appliances | Microwave Ovens | Over-The-Range | 2021-08-11 00:00:00 | 1.1 cu.ft. Slim Over the Range Microwave with 550CFM (ME11A7710DG/AC) - Explore the features and specifications and learn more about our Microwave Ovens at Samsung Canada. | ['Space you want, power you need', 'Powerful suction capacity', 'Space-saving design']\n"
          ]
        }
      ]
    },
    {
      "cell_type": "code",
      "source": [
        "# Define the query\n",
        "query = \"battery\"\n",
        "\n",
        "# Define the list of search results\n",
        "# search_results = [\n",
        "#     \"WA54CG7550AVA4 | 6.2 cu. ft. 7550 Series Top Load Washer with Auto Dispense System | Home Appliances | Laundry | Washing Machines | 2023-08-15 00:00:00 | 6.2 cu. ft. 7550 Series Top Load Washer with Auto Dispense System (WA54CG7550AVA4) - Explore the features and specifications and learn more about our Laundry at Samsung Canada. | [\\\"Keep your clothes and your pet's bedding clean. Remove 6X time more pet hair* with a new Pet Care Wash Cycle. \\\", 'A built-in water faucet lets you easily pretreat soiled or heavily stained clothes with a press of a button.<br/><br/><a href=\\\"https://www.samsung.com/ca/laundry/washing-machines/wa7550c-top-load-auto-dispense-large-capacity-6-2-cu-ft-black-wa54cg7550ava4/#HowtoMeasure5\\\" style=\\\"color:blue\\\">Click to see product dimensions</a>', 'Conveniently stores and automatically dispenses up to 12 loads of detergent and softener.']\",\n",
        "#     \"WA54CG7150ADA4 | 6.2 cu. ft. 7150 Series Top Load Washer with Pet Care Solution | Home Appliances | Laundry | Washing Machines | 2023-08-15 00:00:00 | 6.2 cu. ft. 7150 Series Top Load Washer with Pet Care Solution (WA54CG7150ADA4) - Explore the features and specifications and learn more about our Laundry at Samsung Canada. | ['Wash a full load in 28 minutes', 'Large Capacity (6.2 cu. ft.)', 'Remove 6x times more pet hair* with Pet Care cycle and dual pet hair filters.']\",\n",
        "#     \"WA50A5400AV/A4 | 5.8 Cu.Ft. Top Load Washer with SmartThings | Home Appliances | Laundry | Washing Machines | 2021-03-31 00:00:00 | Upgrade your laundry game with the Samsung WA7000R. With SmartThings and a spacious 5.8 cu. ft. capacity, it's the ultimate washing machine for any household. | ['EZ Access Design for effortless loading and unloading', 'Control & monitor remotely through SmartThings app', 'Wash a full load in 36 minutes with SuperSpeed']\",\n",
        "#     \"DVE50A5405V/AC | 7.4 Cu.Ft. Electric Dryer with Steam | Home Appliances | Laundry | Dryers | 2021-03-31 00:00:00 | Experience the convenience of smart laundry with the DV7000R dryer. Buy now and enjoy 7.4 cubic feet of capacity and SmartThings compatibility. | ['Steam Sanitize+ helps remove bacteria, pollen, and dust mites.', 'Remotely control & monitor the dryer through SmartThings app', 'Large 7.4 cu. ft. Capacity']\",\n",
        "#     \"VCA-SBT90/XAA | Replacement Li-ion Battery for Samsung Jet 90 Stick Vacuum | Home Appliances | Home Appliance Accessories | Vacuum Cleaners Battery | 2021-02-26 00:00:00 | Replacement Li-ion Battery for Samsung Jet 90 Stick Vacuum VCA-SBT90/XAA - Explore the features and specifications and learn more about our Home Appliance Accessories at Samsung Canada. | ['Compatible with Jet 90 Stick Vacuum <a href=\\\"https://www.samsung.com/ca/vacuum-cleaners/stick/vs9000rl-super-powerful-clean-silver-vs20r9046t3-aa/\\\">VS20R9046T3/AA</a>', 'Clean up to 1 hour', 'Removable and longer-lasting Battery']\",\n",
        "#     \"VG-FBB3BA/ZA | The Freestyle Battery Base | Television | Projector Accessories | The Freestyle Battery Base | 2022-06-10 00:00:00 | The Freestyle Battery Base (VG-FBB3BA/ZA) - Explore the features and specifications and learn more about our Projector Accessories at Samsung Canada. | ['Design that complements The Freestyle', 'Support for smartphone charging', 'High capacity 32,000mAh battery']\",\n",
        "#     \"VCA-SBTA60/XAA | Jet 60 Battery Replacement | Home Appliances | Home Appliance Accessories | Others | 2022-07-05 00:00:00 | Jet 60 Battery Replacement (VCA-SBTA60/XAA) - Explore the features and specifications and learn more about our Home Appliance Accessories at Samsung Canada. | []\"\n",
        "# ]\n",
        "\n",
        "# Create pairs of query and search results\n",
        "pairs = [(query, result) for result in search_results]\n",
        "\n",
        "# Compute the relevance scores using the cross-encoder model\n",
        "scores = model.predict(pairs)\n",
        "\n",
        "# Combine results with their scores\n",
        "results_with_scores = list(zip(search_results, scores))\n",
        "\n",
        "# Sort the results by their scores in descending order\n",
        "sorted_results = sorted(results_with_scores, key=lambda x: x[1], reverse=True)\n",
        "\n",
        "# Output the sorted results with their scores\n",
        "for result, score in sorted_results:\n",
        "    print(f\"Relevance score: {score:.4f} | Search Result: {result}\")\n"
      ],
      "metadata": {
        "colab": {
          "base_uri": "https://localhost:8080/"
        },
        "id": "rMmSrbiPou4q",
        "outputId": "511094fb-28f5-4f0c-b955-dde411a16c6d"
      },
      "execution_count": 14,
      "outputs": [
        {
          "output_type": "stream",
          "name": "stdout",
          "text": [
            "Relevance score: -0.3224 | Search Result: VG-FBB3BA/ZA | The Freestyle Battery Base | Television | Projector Accessories | The Freestyle Battery Base | 2022-06-10 00:00:00 | The Freestyle Battery Base (VG-FBB3BA/ZA) - Explore the features and specifications and learn more about our Projector Accessories at Samsung Canada. | ['Design that complements The Freestyle', 'Support for smartphone charging', 'High capacity 32,000mAh battery']\n",
            "Relevance score: -2.8065 | Search Result: VCA-SBT90/XAA | Replacement Li-ion Battery for Samsung Jet 90 Stick Vacuum | Home Appliances | Home Appliance Accessories | Vacuum Cleaners Battery | 2021-02-26 00:00:00 | Replacement Li-ion Battery for Samsung Jet 90 Stick Vacuum VCA-SBT90/XAA - Explore the features and specifications and learn more about our Home Appliance Accessories at Samsung Canada. | ['Compatible with Jet 90 Stick Vacuum <a href=\"https://www.samsung.com/ca/vacuum-cleaners/stick/vs9000rl-super-powerful-clean-silver-vs20r9046t3-aa/\">VS20R9046T3/AA</a>', 'Clean up to 1 hour', 'Removable and longer-lasting Battery']\n",
            "Relevance score: -2.8911 | Search Result: VCA-SBTA60/XAA | Jet 60 Battery Replacement | Home Appliances | Home Appliance Accessories | Others | 2022-07-05 00:00:00 | Jet 60 Battery Replacement (VCA-SBTA60/XAA) - Explore the features and specifications and learn more about our Home Appliance Accessories at Samsung Canada. | []\n",
            "Relevance score: -9.9162 | Search Result: DVE50A5405V/AC | 7.4 Cu.Ft. Electric Dryer with Steam | Home Appliances | Laundry | Dryers | 2021-03-31 00:00:00 | Experience the convenience of smart laundry with the DV7000R dryer. Buy now and enjoy 7.4 cubic feet of capacity and SmartThings compatibility. | ['Steam Sanitize+ helps remove bacteria, pollen, and dust mites.', 'Remotely control & monitor the dryer through SmartThings app', 'Large 7.4 cu. ft. Capacity']\n",
            "Relevance score: -10.0003 | Search Result: WA54CG7550AVA4 | 6.2 cu. ft. 7550 Series Top Load Washer with Auto Dispense System | Home Appliances | Laundry | Washing Machines | 2023-08-15 00:00:00 | 6.2 cu. ft. 7550 Series Top Load Washer with Auto Dispense System (WA54CG7550AVA4) - Explore the features and specifications and learn more about our Laundry at Samsung Canada. | [\"Keep your clothes and your pet's bedding clean. Remove 6X time more pet hair* with a new Pet Care Wash Cycle. \", 'A built-in water faucet lets you easily pretreat soiled or heavily stained clothes with a press of a button.<br/><br/><a href=\"https://www.samsung.com/ca/laundry/washing-machines/wa7550c-top-load-auto-dispense-large-capacity-6-2-cu-ft-black-wa54cg7550ava4/#HowtoMeasure5\" style=\"color:blue\">Click to see product dimensions</a>', 'Conveniently stores and automatically dispenses up to 12 loads of detergent and softener.']\n",
            "Relevance score: -10.5006 | Search Result: ME11A7510DG/AC | 1.1 cu.ft. Slim Over the Range Microwave with 400CFM | Home Appliances | Microwave Ovens | Over-The-Range | 2021-08-11 00:00:00 | 1.1 cu.ft. Slim Over the Range Microwave with 400CFM (ME11A7510DG/AC) - Explore the features and specifications and learn more about our Microwave Ovens at Samsung Canada. | ['1000W microwave power for quick and efficient cooking', 'Slim, space saving design ', '400 cu.ft. per minute suction capacity helps keep air fresh']\n",
            "Relevance score: -10.5183 | Search Result: ME17R7021EW/AC | 1.7 cu.ft. Over-the-Range Microwave with 300 CFM | Home Appliances | Microwave Ovens | Over-The-Range | 2021-04-22 00:00:00 | ME4000R OTR with New Door, Flat Handle (ME17R7021EW/AC) - Explore the features and specifications and learn more about our Microwave Ovens at Samsung Canada. | ['No unsightly marks', 'Harmonious design', 'Fresh air in a flash']\n",
            "Relevance score: -10.5271 | Search Result: WA50A5400AV/A4 | 5.8 Cu.Ft. Top Load Washer with SmartThings | Home Appliances | Laundry | Washing Machines | 2021-03-31 00:00:00 | Upgrade your laundry game with the Samsung WA7000R. With SmartThings and a spacious 5.8 cu. ft. capacity, it's the ultimate washing machine for any household. | ['EZ Access Design for effortless loading and unloading', 'Control & monitor remotely through SmartThings app', 'Wash a full load in 36 minutes with SuperSpeed']\n",
            "Relevance score: -10.5609 | Search Result: ME21B706B12/AC | 2.1 cu.ft. Over-the-Range Microwave with 400 CFM and Glass Touch Control | Home Appliances | Microwave Ovens | Over-The-Range | 2017-11-21 00:00:00 | 2.1 cu.ft. Over-the-Range Microwave with 400 CFM and Glass Touch Control (ME21B706B12/AC) - Explore the features and specifications and learn more about our Microwave Ovens at Samsung Canada. | ['LED cooktop lighting ', 'Precise Glass Touch Control', 'Simple Clean Filter']\n",
            "Relevance score: -10.6143 | Search Result: WA54CG7150ADA4 | 6.2 cu. ft. 7150 Series Top Load Washer with Pet Care Solution | Home Appliances | Laundry | Washing Machines | 2023-08-15 00:00:00 | 6.2 cu. ft. 7150 Series Top Load Washer with Pet Care Solution (WA54CG7150ADA4) - Explore the features and specifications and learn more about our Laundry at Samsung Canada. | ['Wash a full load in 28 minutes', 'Large Capacity (6.2 cu. ft.)', 'Remove 6x times more pet hair* with Pet Care cycle and dual pet hair filters.']\n",
            "Relevance score: -10.6319 | Search Result: ME11A7710DG/AC | 1.1 cu.ft. Slim Over the Range Microwave with 550CFM | Home Appliances | Microwave Ovens | Over-The-Range | 2021-08-11 00:00:00 | 1.1 cu.ft. Slim Over the Range Microwave with 550CFM (ME11A7710DG/AC) - Explore the features and specifications and learn more about our Microwave Ovens at Samsung Canada. | ['Space you want, power you need', 'Powerful suction capacity', 'Space-saving design']\n",
            "Relevance score: -10.7387 | Search Result: EF-UA356CTEGCA | Galaxy A35 5G Screen Protector | Mobile | Accessories | Screen Protector | 2024-04-18 00:00:00 | Galaxy A35 5G Screen Protector (EF-UA356CTEGCA) - Shop Samsung.com and learn more about price and offers on Accessories at Samsung Canada | ['Quick and easy applicator', 'Transparent protection', 'Added shield of protection']\n",
            "Relevance score: -10.7733 | Search Result: ME21DG6300SRAC | 2.1 cu.ft Over the Range Microwave with Finger Print Resistant Finish | Home Appliances | Microwave Ovens | Over-The-Range | 2024-03-25 00:00:00 | 2.1 cu.ft Over the Range Microwave with Finger Print Resistant Finish (ME21DG6300SRAC) - Explore the features and specifications and learn more about our Microwave Ovens at Samsung Canada. | ['Combined control of both cooktop & hood', 'Automatically simple cooking', 'Do the SmartThings at Home']\n",
            "Relevance score: -10.9561 | Search Result: EF-US928CTEGCA | Galaxy S24 Ultra Anti-Reflecting Screen Protector | Mobile | Accessories | Screen Protector | 2023-12-08 00:00:00 | Keep your Galaxy S24 Ultra screen crystal clear with our Anti-Reflecting Screen Protector. Enjoy superb transparency and extra screen protection. | ['Extra layer of protection', 'Superb transparency']\n",
            "Relevance score: -10.9771 | Search Result: EF-US711CTEGCA | Galaxy S23 FE Screen Protector | Mobile | Accessories | Screen Protector | 2023-10-27 00:00:00 | Protect your screen while enjoying the original responsive touch with the S23 FE Screen Protector, featuring an anti-scratch and anti-finger coating. | ['Quick and easy installation', 'Quality defense', 'Added shield of protection']\n",
            "Relevance score: -10.9956 | Search Result: EF-US926CTEGCA | Galaxy S24+ Anti-Reflecting Screen Protector | Mobile | Accessories | Screen Protector | 2023-12-08 00:00:00 | Keep your Galaxy S24 Plus screen crystal clear with our Anti-Reflecting Screen Protector. Enjoy superb transparency and enhanced screen safety. | ['Extra layer of protection', 'Superb transparency']\n",
            "Relevance score: -11.0180 | Search Result: EF-US921CTEGCA | Galaxy S24 Anti-Reflecting Screen Protector | Mobile | Accessories | Screen Protector | 2023-12-07 00:00:00 | Keep your Galaxy S24's screen crystal clear with our Anti-Reflecting Screen Protector. Enjoy superb transparency and enhanced screen safety. | ['Extra layer of protection', 'Superb transparency']\n",
            "Relevance score: -11.0579 | Search Result: SM-S926WZVEXAC | Galaxy S24+ | Mobile | Smartphones | Galaxy S | 2023-12-11 00:00:00 | Meet the new Galaxy S24 and S24+, the smartphones that are setting the new standard of mobile, now with Galaxy AI. Epic, just like that. | ['Shrunken bezels & satin-finished aluminum', 'Setting the new standard of mobile, now with Galaxy AI', 'Space Zoom for pixel-rich portraits & power for gameplay']\n",
            "Relevance score: -11.0604 | Search Result: SM-S921WLBEXAC | Galaxy S24 (Online Exclusive) | Mobile | Smartphones | Galaxy S | 2023-12-12 00:00:00 | Meet the new Galaxy S24 and S24+, the smartphones that are setting the new standard of mobile, now with Galaxy AI. Epic, just like that. | ['Shrunken bezels & satin-finished aluminum', 'Setting the new standard of mobile, now with Galaxy AI', 'Space Zoom for pixel-rich portraits & power for gameplay']\n",
            "Relevance score: -11.0610 | Search Result: SM-S926WLBEXAC | Galaxy S24+ (Online Exclusive) | Mobile | Smartphones | Galaxy S | 2023-12-11 00:00:00 | Meet the new Galaxy S24 and S24+, the smartphones that are setting the new standard of mobile, now with Galaxy AI. Epic, just like that. | ['Shrunken bezels & satin-finished aluminum', 'Setting the new standard of mobile, now with Galaxy AI', 'Space Zoom for pixel-rich portraits & power for gameplay']\n",
            "Relevance score: -11.1151 | Search Result: SM-S928WLBFXAC | Galaxy S24 Ultra (Online Exclusive) | Mobile | Smartphones | Galaxy S | 2023-12-12 00:00:00 | Meet the new Galaxy S24 Ultra, the smartphone packed with industry-leading camera, performance and world-changing Galaxy AI. Epic, just like that. | ['Made with titanium. Built to last', 'Industry-leading hardware meets innovative AI', '200MP high-resolution photography & hyper-realistic gameplay']\n",
            "Relevance score: -11.1335 | Search Result: SM-S928WZTFXAC | Galaxy S24 Ultra | Mobile | Smartphones | Galaxy S | 2023-12-11 00:00:00 | Meet the new Galaxy S24 Ultra, the smartphone packed with industry-leading camera, performance and world-changing Galaxy AI. Epic, just like that. | ['Made with titanium. Built to last', 'Industry-leading hardware meets innovative AI', '200MP high-resolution photography & hyper-realistic gameplay']\n"
          ]
        }
      ]
    },
    {
      "cell_type": "code",
      "source": [
        "# Define the query\n",
        "query = \"printer\"\n",
        "\n",
        "# Define the list of search results\n",
        "# search_results = [\n",
        "#     \"ME21DG6300SRAC | 2.1 cu.ft Over the Range Microwave with Finger Print Resistant Finish | Home Appliances | Microwave Ovens | Over-The-Range | 2024-03-25 00:00:00 | 2.1 cu.ft Over the Range Microwave with Finger Print Resistant Finish (ME21DG6300SRAC) - Explore the features and specifications and learn more about our Microwave Ovens at Samsung Canada. | ['Combined control of both cooktop & hood', 'Automatically simple cooking', 'Do the SmartThings at Home']\",\n",
        "#     \"ME21B706B12/AC | 2.1 cu.ft. Over-the-Range Microwave with 400 CFM and Glass Touch Control | Home Appliances | Microwave Ovens | Over-The-Range | 2017-11-21 00:00:00 | 2.1 cu.ft. Over-the-Range Microwave with 400 CFM and Glass Touch Control (ME21B706B12/AC) - Explore the features and specifications and learn more about our Microwave Ovens at Samsung Canada. | ['LED cooktop lighting ', 'Precise Glass Touch Control', 'Simple Clean Filter']\",\n",
        "#     \"ME17R7021EW/AC | 1.7 cu.ft. Over-the-Range Microwave with 300 CFM | Home Appliances | Microwave Ovens | Over-The-Range | 2021-04-22 00:00:00 | ME4000R OTR with New Door, Flat Handle (ME17R7021EW/AC) - Explore the features and specifications and learn more about our Microwave Ovens at Samsung Canada. | ['No unsightly marks', 'Harmonious design', 'Fresh air in a flash']\",\n",
        "#     \"ME11A7510DG/AC | 1.1 cu.ft. Slim Over the Range Microwave with 400CFM | Home Appliances | Microwave Ovens | Over-The-Range | 2021-08-11 00:00:00 | 1.1 cu.ft. Slim Over the Range Microwave with 400CFM (ME11A7510DG/AC) - Explore the features and specifications and learn more about our Microwave Ovens at Samsung Canada. | ['1000W microwave power for quick and efficient cooking', 'Slim, space saving design ', '400 cu.ft. per minute suction capacity helps keep air fresh']\",\n",
        "#     \"ME11A7710DG/AC | 1.1 cu.ft. Slim Over the Range Microwave with 550CFM | Home Appliances | Microwave Ovens | Over-The-Range | 2021-08-11 00:00:00 | 1.1 cu.ft. Slim Over the Range Microwave with 550CFM (ME11A7710DG/AC) - Explore the features and specifications and learn more about our Microwave Ovens at Samsung Canada. | ['Space you want, power you need', 'Powerful suction capacity', 'Space-saving design']\"\n",
        "# ]\n",
        "\n",
        "\n",
        "# Create pairs of query and search results\n",
        "pairs = [(query, result) for result in search_results]\n",
        "\n",
        "# Compute the relevance scores using the cross-encoder model\n",
        "scores = model.predict(pairs)\n",
        "\n",
        "# Combine results with their scores\n",
        "results_with_scores = list(zip(search_results, scores))\n",
        "\n",
        "# Sort the results by their scores in descending order\n",
        "sorted_results = sorted(results_with_scores, key=lambda x: x[1], reverse=True)\n",
        "\n",
        "# Output the sorted results with their scores\n",
        "for result, score in sorted_results:\n",
        "    print(f\"Relevance score: {score:.4f} | Search Result: {result}\")\n"
      ],
      "metadata": {
        "colab": {
          "base_uri": "https://localhost:8080/"
        },
        "id": "DGM7Bj_you2M",
        "outputId": "d2530ce9-5cea-4126-c37c-f221dd907dcd"
      },
      "execution_count": 15,
      "outputs": [
        {
          "output_type": "stream",
          "name": "stdout",
          "text": [
            "Relevance score: -9.3788 | Search Result: ME21DG6300SRAC | 2.1 cu.ft Over the Range Microwave with Finger Print Resistant Finish | Home Appliances | Microwave Ovens | Over-The-Range | 2024-03-25 00:00:00 | 2.1 cu.ft Over the Range Microwave with Finger Print Resistant Finish (ME21DG6300SRAC) - Explore the features and specifications and learn more about our Microwave Ovens at Samsung Canada. | ['Combined control of both cooktop & hood', 'Automatically simple cooking', 'Do the SmartThings at Home']\n",
            "Relevance score: -10.3274 | Search Result: WA54CG7550AVA4 | 6.2 cu. ft. 7550 Series Top Load Washer with Auto Dispense System | Home Appliances | Laundry | Washing Machines | 2023-08-15 00:00:00 | 6.2 cu. ft. 7550 Series Top Load Washer with Auto Dispense System (WA54CG7550AVA4) - Explore the features and specifications and learn more about our Laundry at Samsung Canada. | [\"Keep your clothes and your pet's bedding clean. Remove 6X time more pet hair* with a new Pet Care Wash Cycle. \", 'A built-in water faucet lets you easily pretreat soiled or heavily stained clothes with a press of a button.<br/><br/><a href=\"https://www.samsung.com/ca/laundry/washing-machines/wa7550c-top-load-auto-dispense-large-capacity-6-2-cu-ft-black-wa54cg7550ava4/#HowtoMeasure5\" style=\"color:blue\">Click to see product dimensions</a>', 'Conveniently stores and automatically dispenses up to 12 loads of detergent and softener.']\n",
            "Relevance score: -10.7954 | Search Result: WA54CG7150ADA4 | 6.2 cu. ft. 7150 Series Top Load Washer with Pet Care Solution | Home Appliances | Laundry | Washing Machines | 2023-08-15 00:00:00 | 6.2 cu. ft. 7150 Series Top Load Washer with Pet Care Solution (WA54CG7150ADA4) - Explore the features and specifications and learn more about our Laundry at Samsung Canada. | ['Wash a full load in 28 minutes', 'Large Capacity (6.2 cu. ft.)', 'Remove 6x times more pet hair* with Pet Care cycle and dual pet hair filters.']\n",
            "Relevance score: -10.8816 | Search Result: DVE50A5405V/AC | 7.4 Cu.Ft. Electric Dryer with Steam | Home Appliances | Laundry | Dryers | 2021-03-31 00:00:00 | Experience the convenience of smart laundry with the DV7000R dryer. Buy now and enjoy 7.4 cubic feet of capacity and SmartThings compatibility. | ['Steam Sanitize+ helps remove bacteria, pollen, and dust mites.', 'Remotely control & monitor the dryer through SmartThings app', 'Large 7.4 cu. ft. Capacity']\n",
            "Relevance score: -10.9697 | Search Result: WA50A5400AV/A4 | 5.8 Cu.Ft. Top Load Washer with SmartThings | Home Appliances | Laundry | Washing Machines | 2021-03-31 00:00:00 | Upgrade your laundry game with the Samsung WA7000R. With SmartThings and a spacious 5.8 cu. ft. capacity, it's the ultimate washing machine for any household. | ['EZ Access Design for effortless loading and unloading', 'Control & monitor remotely through SmartThings app', 'Wash a full load in 36 minutes with SuperSpeed']\n",
            "Relevance score: -10.9808 | Search Result: ME17R7021EW/AC | 1.7 cu.ft. Over-the-Range Microwave with 300 CFM | Home Appliances | Microwave Ovens | Over-The-Range | 2021-04-22 00:00:00 | ME4000R OTR with New Door, Flat Handle (ME17R7021EW/AC) - Explore the features and specifications and learn more about our Microwave Ovens at Samsung Canada. | ['No unsightly marks', 'Harmonious design', 'Fresh air in a flash']\n",
            "Relevance score: -10.9938 | Search Result: ME21B706B12/AC | 2.1 cu.ft. Over-the-Range Microwave with 400 CFM and Glass Touch Control | Home Appliances | Microwave Ovens | Over-The-Range | 2017-11-21 00:00:00 | 2.1 cu.ft. Over-the-Range Microwave with 400 CFM and Glass Touch Control (ME21B706B12/AC) - Explore the features and specifications and learn more about our Microwave Ovens at Samsung Canada. | ['LED cooktop lighting ', 'Precise Glass Touch Control', 'Simple Clean Filter']\n",
            "Relevance score: -10.9968 | Search Result: ME11A7510DG/AC | 1.1 cu.ft. Slim Over the Range Microwave with 400CFM | Home Appliances | Microwave Ovens | Over-The-Range | 2021-08-11 00:00:00 | 1.1 cu.ft. Slim Over the Range Microwave with 400CFM (ME11A7510DG/AC) - Explore the features and specifications and learn more about our Microwave Ovens at Samsung Canada. | ['1000W microwave power for quick and efficient cooking', 'Slim, space saving design ', '400 cu.ft. per minute suction capacity helps keep air fresh']\n",
            "Relevance score: -11.0422 | Search Result: VCA-SBT90/XAA | Replacement Li-ion Battery for Samsung Jet 90 Stick Vacuum | Home Appliances | Home Appliance Accessories | Vacuum Cleaners Battery | 2021-02-26 00:00:00 | Replacement Li-ion Battery for Samsung Jet 90 Stick Vacuum VCA-SBT90/XAA - Explore the features and specifications and learn more about our Home Appliance Accessories at Samsung Canada. | ['Compatible with Jet 90 Stick Vacuum <a href=\"https://www.samsung.com/ca/vacuum-cleaners/stick/vs9000rl-super-powerful-clean-silver-vs20r9046t3-aa/\">VS20R9046T3/AA</a>', 'Clean up to 1 hour', 'Removable and longer-lasting Battery']\n",
            "Relevance score: -11.0434 | Search Result: VG-FBB3BA/ZA | The Freestyle Battery Base | Television | Projector Accessories | The Freestyle Battery Base | 2022-06-10 00:00:00 | The Freestyle Battery Base (VG-FBB3BA/ZA) - Explore the features and specifications and learn more about our Projector Accessories at Samsung Canada. | ['Design that complements The Freestyle', 'Support for smartphone charging', 'High capacity 32,000mAh battery']\n",
            "Relevance score: -11.0563 | Search Result: ME11A7710DG/AC | 1.1 cu.ft. Slim Over the Range Microwave with 550CFM | Home Appliances | Microwave Ovens | Over-The-Range | 2021-08-11 00:00:00 | 1.1 cu.ft. Slim Over the Range Microwave with 550CFM (ME11A7710DG/AC) - Explore the features and specifications and learn more about our Microwave Ovens at Samsung Canada. | ['Space you want, power you need', 'Powerful suction capacity', 'Space-saving design']\n",
            "Relevance score: -11.1819 | Search Result: SM-S926WLBEXAC | Galaxy S24+ (Online Exclusive) | Mobile | Smartphones | Galaxy S | 2023-12-11 00:00:00 | Meet the new Galaxy S24 and S24+, the smartphones that are setting the new standard of mobile, now with Galaxy AI. Epic, just like that. | ['Shrunken bezels & satin-finished aluminum', 'Setting the new standard of mobile, now with Galaxy AI', 'Space Zoom for pixel-rich portraits & power for gameplay']\n",
            "Relevance score: -11.1831 | Search Result: SM-S921WLBEXAC | Galaxy S24 (Online Exclusive) | Mobile | Smartphones | Galaxy S | 2023-12-12 00:00:00 | Meet the new Galaxy S24 and S24+, the smartphones that are setting the new standard of mobile, now with Galaxy AI. Epic, just like that. | ['Shrunken bezels & satin-finished aluminum', 'Setting the new standard of mobile, now with Galaxy AI', 'Space Zoom for pixel-rich portraits & power for gameplay']\n",
            "Relevance score: -11.1862 | Search Result: EF-UA356CTEGCA | Galaxy A35 5G Screen Protector | Mobile | Accessories | Screen Protector | 2024-04-18 00:00:00 | Galaxy A35 5G Screen Protector (EF-UA356CTEGCA) - Shop Samsung.com and learn more about price and offers on Accessories at Samsung Canada | ['Quick and easy applicator', 'Transparent protection', 'Added shield of protection']\n",
            "Relevance score: -11.1906 | Search Result: SM-S926WZVEXAC | Galaxy S24+ | Mobile | Smartphones | Galaxy S | 2023-12-11 00:00:00 | Meet the new Galaxy S24 and S24+, the smartphones that are setting the new standard of mobile, now with Galaxy AI. Epic, just like that. | ['Shrunken bezels & satin-finished aluminum', 'Setting the new standard of mobile, now with Galaxy AI', 'Space Zoom for pixel-rich portraits & power for gameplay']\n",
            "Relevance score: -11.2020 | Search Result: VCA-SBTA60/XAA | Jet 60 Battery Replacement | Home Appliances | Home Appliance Accessories | Others | 2022-07-05 00:00:00 | Jet 60 Battery Replacement (VCA-SBTA60/XAA) - Explore the features and specifications and learn more about our Home Appliance Accessories at Samsung Canada. | []\n",
            "Relevance score: -11.2125 | Search Result: SM-S928WLBFXAC | Galaxy S24 Ultra (Online Exclusive) | Mobile | Smartphones | Galaxy S | 2023-12-12 00:00:00 | Meet the new Galaxy S24 Ultra, the smartphone packed with industry-leading camera, performance and world-changing Galaxy AI. Epic, just like that. | ['Made with titanium. Built to last', 'Industry-leading hardware meets innovative AI', '200MP high-resolution photography & hyper-realistic gameplay']\n",
            "Relevance score: -11.2128 | Search Result: EF-US928CTEGCA | Galaxy S24 Ultra Anti-Reflecting Screen Protector | Mobile | Accessories | Screen Protector | 2023-12-08 00:00:00 | Keep your Galaxy S24 Ultra screen crystal clear with our Anti-Reflecting Screen Protector. Enjoy superb transparency and extra screen protection. | ['Extra layer of protection', 'Superb transparency']\n",
            "Relevance score: -11.2141 | Search Result: EF-US711CTEGCA | Galaxy S23 FE Screen Protector | Mobile | Accessories | Screen Protector | 2023-10-27 00:00:00 | Protect your screen while enjoying the original responsive touch with the S23 FE Screen Protector, featuring an anti-scratch and anti-finger coating. | ['Quick and easy installation', 'Quality defense', 'Added shield of protection']\n",
            "Relevance score: -11.2172 | Search Result: EF-US921CTEGCA | Galaxy S24 Anti-Reflecting Screen Protector | Mobile | Accessories | Screen Protector | 2023-12-07 00:00:00 | Keep your Galaxy S24's screen crystal clear with our Anti-Reflecting Screen Protector. Enjoy superb transparency and enhanced screen safety. | ['Extra layer of protection', 'Superb transparency']\n",
            "Relevance score: -11.2199 | Search Result: EF-US926CTEGCA | Galaxy S24+ Anti-Reflecting Screen Protector | Mobile | Accessories | Screen Protector | 2023-12-08 00:00:00 | Keep your Galaxy S24 Plus screen crystal clear with our Anti-Reflecting Screen Protector. Enjoy superb transparency and enhanced screen safety. | ['Extra layer of protection', 'Superb transparency']\n",
            "Relevance score: -11.2217 | Search Result: SM-S928WZTFXAC | Galaxy S24 Ultra | Mobile | Smartphones | Galaxy S | 2023-12-11 00:00:00 | Meet the new Galaxy S24 Ultra, the smartphone packed with industry-leading camera, performance and world-changing Galaxy AI. Epic, just like that. | ['Made with titanium. Built to last', 'Industry-leading hardware meets innovative AI', '200MP high-resolution photography & hyper-realistic gameplay']\n"
          ]
        }
      ]
    },
    {
      "cell_type": "code",
      "source": [
        "# Define the query\n",
        "query = \"oven\"\n",
        "\n",
        "# Define the list of search results\n",
        "# search_results = [\n",
        "#     \"ME21DG6300SRAC | 2.1 cu.ft Over the Range Microwave with Finger Print Resistant Finish | Home Appliances | Microwave Ovens | Over-The-Range | 2024-03-25 00:00:00 | 2.1 cu.ft Over the Range Microwave with Finger Print Resistant Finish (ME21DG6300SRAC) - Explore the features and specifications and learn more about our Microwave Ovens at Samsung Canada. | ['Combined control of both cooktop & hood', 'Automatically simple cooking', 'Do the SmartThings at Home']\",\n",
        "#     \"ME21B706B12/AC | 2.1 cu.ft. Over-the-Range Microwave with 400 CFM and Glass Touch Control | Home Appliances | Microwave Ovens | Over-The-Range | 2017-11-21 00:00:00 | 2.1 cu.ft. Over-the-Range Microwave with 400 CFM and Glass Touch Control (ME21B706B12/AC) - Explore the features and specifications and learn more about our Microwave Ovens at Samsung Canada. | ['LED cooktop lighting ', 'Precise Glass Touch Control', 'Simple Clean Filter']\",\n",
        "#     \"ME17R7021EW/AC | 1.7 cu.ft. Over-the-Range Microwave with 300 CFM | Home Appliances | Microwave Ovens | Over-The-Range | 2021-04-22 00:00:00 | ME4000R OTR with New Door, Flat Handle (ME17R7021EW/AC) - Explore the features and specifications and learn more about our Microwave Ovens at Samsung Canada. | ['No unsightly marks', 'Harmonious design', 'Fresh air in a flash']\",\n",
        "#     \"ME11A7510DG/AC | 1.1 cu.ft. Slim Over the Range Microwave with 400CFM | Home Appliances | Microwave Ovens | Over-The-Range | 2021-08-11 00:00:00 | 1.1 cu.ft. Slim Over the Range Microwave with 400CFM (ME11A7510DG/AC) - Explore the features and specifications and learn more about our Microwave Ovens at Samsung Canada. | ['1000W microwave power for quick and efficient cooking', 'Slim, space saving design ', '400 cu.ft. per minute suction capacity helps keep air fresh']\",\n",
        "#     \"ME11A7710DG/AC | 1.1 cu.ft. Slim Over the Range Microwave with 550CFM | Home Appliances | Microwave Ovens | Over-The-Range | 2021-08-11 00:00:00 | 1.1 cu.ft. Slim Over the Range Microwave with 550CFM (ME11A7710DG/AC) - Explore the features and specifications and learn more about our Microwave Ovens at Samsung Canada. | ['Space you want, power you need', 'Powerful suction capacity', 'Space-saving design']\"\n",
        "# ]\n",
        "\n",
        "\n",
        "# Create pairs of query and search results\n",
        "pairs = [(query, result) for result in search_results]\n",
        "\n",
        "# Compute the relevance scores using the cross-encoder model\n",
        "scores = model.predict(pairs)\n",
        "\n",
        "# Combine results with their scores\n",
        "results_with_scores = list(zip(search_results, scores))\n",
        "\n",
        "# Sort the results by their scores in descending order\n",
        "sorted_results = sorted(results_with_scores, key=lambda x: x[1], reverse=True)\n",
        "\n",
        "# Output the sorted results with their scores\n",
        "for result, score in sorted_results:\n",
        "    print(f\"Relevance score: {score:.4f} | Search Result: {result}\")\n"
      ],
      "metadata": {
        "colab": {
          "base_uri": "https://localhost:8080/"
        },
        "id": "a9ty32PEouzf",
        "outputId": "175e0f5e-cbdb-4183-e005-5664006ab530"
      },
      "execution_count": 16,
      "outputs": [
        {
          "output_type": "stream",
          "name": "stdout",
          "text": [
            "Relevance score: -0.0888 | Search Result: ME21B706B12/AC | 2.1 cu.ft. Over-the-Range Microwave with 400 CFM and Glass Touch Control | Home Appliances | Microwave Ovens | Over-The-Range | 2017-11-21 00:00:00 | 2.1 cu.ft. Over-the-Range Microwave with 400 CFM and Glass Touch Control (ME21B706B12/AC) - Explore the features and specifications and learn more about our Microwave Ovens at Samsung Canada. | ['LED cooktop lighting ', 'Precise Glass Touch Control', 'Simple Clean Filter']\n",
            "Relevance score: -0.2212 | Search Result: ME17R7021EW/AC | 1.7 cu.ft. Over-the-Range Microwave with 300 CFM | Home Appliances | Microwave Ovens | Over-The-Range | 2021-04-22 00:00:00 | ME4000R OTR with New Door, Flat Handle (ME17R7021EW/AC) - Explore the features and specifications and learn more about our Microwave Ovens at Samsung Canada. | ['No unsightly marks', 'Harmonious design', 'Fresh air in a flash']\n",
            "Relevance score: -0.6545 | Search Result: ME21DG6300SRAC | 2.1 cu.ft Over the Range Microwave with Finger Print Resistant Finish | Home Appliances | Microwave Ovens | Over-The-Range | 2024-03-25 00:00:00 | 2.1 cu.ft Over the Range Microwave with Finger Print Resistant Finish (ME21DG6300SRAC) - Explore the features and specifications and learn more about our Microwave Ovens at Samsung Canada. | ['Combined control of both cooktop & hood', 'Automatically simple cooking', 'Do the SmartThings at Home']\n",
            "Relevance score: -1.1958 | Search Result: ME11A7710DG/AC | 1.1 cu.ft. Slim Over the Range Microwave with 550CFM | Home Appliances | Microwave Ovens | Over-The-Range | 2021-08-11 00:00:00 | 1.1 cu.ft. Slim Over the Range Microwave with 550CFM (ME11A7710DG/AC) - Explore the features and specifications and learn more about our Microwave Ovens at Samsung Canada. | ['Space you want, power you need', 'Powerful suction capacity', 'Space-saving design']\n",
            "Relevance score: -1.4224 | Search Result: ME11A7510DG/AC | 1.1 cu.ft. Slim Over the Range Microwave with 400CFM | Home Appliances | Microwave Ovens | Over-The-Range | 2021-08-11 00:00:00 | 1.1 cu.ft. Slim Over the Range Microwave with 400CFM (ME11A7510DG/AC) - Explore the features and specifications and learn more about our Microwave Ovens at Samsung Canada. | ['1000W microwave power for quick and efficient cooking', 'Slim, space saving design ', '400 cu.ft. per minute suction capacity helps keep air fresh']\n",
            "Relevance score: -10.8901 | Search Result: WA54CG7550AVA4 | 6.2 cu. ft. 7550 Series Top Load Washer with Auto Dispense System | Home Appliances | Laundry | Washing Machines | 2023-08-15 00:00:00 | 6.2 cu. ft. 7550 Series Top Load Washer with Auto Dispense System (WA54CG7550AVA4) - Explore the features and specifications and learn more about our Laundry at Samsung Canada. | [\"Keep your clothes and your pet's bedding clean. Remove 6X time more pet hair* with a new Pet Care Wash Cycle. \", 'A built-in water faucet lets you easily pretreat soiled or heavily stained clothes with a press of a button.<br/><br/><a href=\"https://www.samsung.com/ca/laundry/washing-machines/wa7550c-top-load-auto-dispense-large-capacity-6-2-cu-ft-black-wa54cg7550ava4/#HowtoMeasure5\" style=\"color:blue\">Click to see product dimensions</a>', 'Conveniently stores and automatically dispenses up to 12 loads of detergent and softener.']\n",
            "Relevance score: -11.0475 | Search Result: WA54CG7150ADA4 | 6.2 cu. ft. 7150 Series Top Load Washer with Pet Care Solution | Home Appliances | Laundry | Washing Machines | 2023-08-15 00:00:00 | 6.2 cu. ft. 7150 Series Top Load Washer with Pet Care Solution (WA54CG7150ADA4) - Explore the features and specifications and learn more about our Laundry at Samsung Canada. | ['Wash a full load in 28 minutes', 'Large Capacity (6.2 cu. ft.)', 'Remove 6x times more pet hair* with Pet Care cycle and dual pet hair filters.']\n",
            "Relevance score: -11.0979 | Search Result: DVE50A5405V/AC | 7.4 Cu.Ft. Electric Dryer with Steam | Home Appliances | Laundry | Dryers | 2021-03-31 00:00:00 | Experience the convenience of smart laundry with the DV7000R dryer. Buy now and enjoy 7.4 cubic feet of capacity and SmartThings compatibility. | ['Steam Sanitize+ helps remove bacteria, pollen, and dust mites.', 'Remotely control & monitor the dryer through SmartThings app', 'Large 7.4 cu. ft. Capacity']\n",
            "Relevance score: -11.1201 | Search Result: WA50A5400AV/A4 | 5.8 Cu.Ft. Top Load Washer with SmartThings | Home Appliances | Laundry | Washing Machines | 2021-03-31 00:00:00 | Upgrade your laundry game with the Samsung WA7000R. With SmartThings and a spacious 5.8 cu. ft. capacity, it's the ultimate washing machine for any household. | ['EZ Access Design for effortless loading and unloading', 'Control & monitor remotely through SmartThings app', 'Wash a full load in 36 minutes with SuperSpeed']\n",
            "Relevance score: -11.1493 | Search Result: VCA-SBT90/XAA | Replacement Li-ion Battery for Samsung Jet 90 Stick Vacuum | Home Appliances | Home Appliance Accessories | Vacuum Cleaners Battery | 2021-02-26 00:00:00 | Replacement Li-ion Battery for Samsung Jet 90 Stick Vacuum VCA-SBT90/XAA - Explore the features and specifications and learn more about our Home Appliance Accessories at Samsung Canada. | ['Compatible with Jet 90 Stick Vacuum <a href=\"https://www.samsung.com/ca/vacuum-cleaners/stick/vs9000rl-super-powerful-clean-silver-vs20r9046t3-aa/\">VS20R9046T3/AA</a>', 'Clean up to 1 hour', 'Removable and longer-lasting Battery']\n",
            "Relevance score: -11.2079 | Search Result: VG-FBB3BA/ZA | The Freestyle Battery Base | Television | Projector Accessories | The Freestyle Battery Base | 2022-06-10 00:00:00 | The Freestyle Battery Base (VG-FBB3BA/ZA) - Explore the features and specifications and learn more about our Projector Accessories at Samsung Canada. | ['Design that complements The Freestyle', 'Support for smartphone charging', 'High capacity 32,000mAh battery']\n",
            "Relevance score: -11.2158 | Search Result: VCA-SBTA60/XAA | Jet 60 Battery Replacement | Home Appliances | Home Appliance Accessories | Others | 2022-07-05 00:00:00 | Jet 60 Battery Replacement (VCA-SBTA60/XAA) - Explore the features and specifications and learn more about our Home Appliance Accessories at Samsung Canada. | []\n",
            "Relevance score: -11.2310 | Search Result: EF-UA356CTEGCA | Galaxy A35 5G Screen Protector | Mobile | Accessories | Screen Protector | 2024-04-18 00:00:00 | Galaxy A35 5G Screen Protector (EF-UA356CTEGCA) - Shop Samsung.com and learn more about price and offers on Accessories at Samsung Canada | ['Quick and easy applicator', 'Transparent protection', 'Added shield of protection']\n",
            "Relevance score: -11.2397 | Search Result: SM-S921WLBEXAC | Galaxy S24 (Online Exclusive) | Mobile | Smartphones | Galaxy S | 2023-12-12 00:00:00 | Meet the new Galaxy S24 and S24+, the smartphones that are setting the new standard of mobile, now with Galaxy AI. Epic, just like that. | ['Shrunken bezels & satin-finished aluminum', 'Setting the new standard of mobile, now with Galaxy AI', 'Space Zoom for pixel-rich portraits & power for gameplay']\n",
            "Relevance score: -11.2403 | Search Result: SM-S926WLBEXAC | Galaxy S24+ (Online Exclusive) | Mobile | Smartphones | Galaxy S | 2023-12-11 00:00:00 | Meet the new Galaxy S24 and S24+, the smartphones that are setting the new standard of mobile, now with Galaxy AI. Epic, just like that. | ['Shrunken bezels & satin-finished aluminum', 'Setting the new standard of mobile, now with Galaxy AI', 'Space Zoom for pixel-rich portraits & power for gameplay']\n",
            "Relevance score: -11.2421 | Search Result: EF-US928CTEGCA | Galaxy S24 Ultra Anti-Reflecting Screen Protector | Mobile | Accessories | Screen Protector | 2023-12-08 00:00:00 | Keep your Galaxy S24 Ultra screen crystal clear with our Anti-Reflecting Screen Protector. Enjoy superb transparency and extra screen protection. | ['Extra layer of protection', 'Superb transparency']\n",
            "Relevance score: -11.2463 | Search Result: SM-S928WLBFXAC | Galaxy S24 Ultra (Online Exclusive) | Mobile | Smartphones | Galaxy S | 2023-12-12 00:00:00 | Meet the new Galaxy S24 Ultra, the smartphone packed with industry-leading camera, performance and world-changing Galaxy AI. Epic, just like that. | ['Made with titanium. Built to last', 'Industry-leading hardware meets innovative AI', '200MP high-resolution photography & hyper-realistic gameplay']\n",
            "Relevance score: -11.2467 | Search Result: SM-S926WZVEXAC | Galaxy S24+ | Mobile | Smartphones | Galaxy S | 2023-12-11 00:00:00 | Meet the new Galaxy S24 and S24+, the smartphones that are setting the new standard of mobile, now with Galaxy AI. Epic, just like that. | ['Shrunken bezels & satin-finished aluminum', 'Setting the new standard of mobile, now with Galaxy AI', 'Space Zoom for pixel-rich portraits & power for gameplay']\n",
            "Relevance score: -11.2483 | Search Result: EF-US921CTEGCA | Galaxy S24 Anti-Reflecting Screen Protector | Mobile | Accessories | Screen Protector | 2023-12-07 00:00:00 | Keep your Galaxy S24's screen crystal clear with our Anti-Reflecting Screen Protector. Enjoy superb transparency and enhanced screen safety. | ['Extra layer of protection', 'Superb transparency']\n",
            "Relevance score: -11.2513 | Search Result: EF-US926CTEGCA | Galaxy S24+ Anti-Reflecting Screen Protector | Mobile | Accessories | Screen Protector | 2023-12-08 00:00:00 | Keep your Galaxy S24 Plus screen crystal clear with our Anti-Reflecting Screen Protector. Enjoy superb transparency and enhanced screen safety. | ['Extra layer of protection', 'Superb transparency']\n",
            "Relevance score: -11.2524 | Search Result: SM-S928WZTFXAC | Galaxy S24 Ultra | Mobile | Smartphones | Galaxy S | 2023-12-11 00:00:00 | Meet the new Galaxy S24 Ultra, the smartphone packed with industry-leading camera, performance and world-changing Galaxy AI. Epic, just like that. | ['Made with titanium. Built to last', 'Industry-leading hardware meets innovative AI', '200MP high-resolution photography & hyper-realistic gameplay']\n",
            "Relevance score: -11.2555 | Search Result: EF-US711CTEGCA | Galaxy S23 FE Screen Protector | Mobile | Accessories | Screen Protector | 2023-10-27 00:00:00 | Protect your screen while enjoying the original responsive touch with the S23 FE Screen Protector, featuring an anti-scratch and anti-finger coating. | ['Quick and easy installation', 'Quality defense', 'Added shield of protection']\n"
          ]
        }
      ]
    },
    {
      "cell_type": "code",
      "source": [
        "# Define the query\n",
        "query = \"microwave\"\n",
        "\n",
        "## Define the list of search results\n",
        "# search_results = [\n",
        "#     \"ME21DG6300SRAC | 2.1 cu.ft Over the Range Microwave with Finger Print Resistant Finish | Home Appliances | Microwave Ovens | Over-The-Range | 2024-03-25 00:00:00 | 2.1 cu.ft Over the Range Microwave with Finger Print Resistant Finish (ME21DG6300SRAC) - Explore the features and specifications and learn more about our Microwave Ovens at Samsung Canada. | ['Combined control of both cooktop & hood', 'Automatically simple cooking', 'Do the SmartThings at Home']\",\n",
        "#     \"ME21B706B12/AC | 2.1 cu.ft. Over-the-Range Microwave with 400 CFM and Glass Touch Control | Home Appliances | Microwave Ovens | Over-The-Range | 2017-11-21 00:00:00 | 2.1 cu.ft. Over-the-Range Microwave with 400 CFM and Glass Touch Control (ME21B706B12/AC) - Explore the features and specifications and learn more about our Microwave Ovens at Samsung Canada. | ['LED cooktop lighting ', 'Precise Glass Touch Control', 'Simple Clean Filter']\",\n",
        "#     \"ME17R7021EW/AC | 1.7 cu.ft. Over-the-Range Microwave with 300 CFM | Home Appliances | Microwave Ovens | Over-The-Range | 2021-04-22 00:00:00 | ME4000R OTR with New Door, Flat Handle (ME17R7021EW/AC) - Explore the features and specifications and learn more about our Microwave Ovens at Samsung Canada. | ['No unsightly marks', 'Harmonious design', 'Fresh air in a flash']\",\n",
        "#     \"ME11A7510DG/AC | 1.1 cu.ft. Slim Over the Range Microwave with 400CFM | Home Appliances | Microwave Ovens | Over-The-Range | 2021-08-11 00:00:00 | 1.1 cu.ft. Slim Over the Range Microwave with 400CFM (ME11A7510DG/AC) - Explore the features and specifications and learn more about our Microwave Ovens at Samsung Canada. | ['1000W microwave power for quick and efficient cooking', 'Slim, space saving design ', '400 cu.ft. per minute suction capacity helps keep air fresh']\",\n",
        "#     \"ME11A7710DG/AC | 1.1 cu.ft. Slim Over the Range Microwave with 550CFM | Home Appliances | Microwave Ovens | Over-The-Range | 2021-08-11 00:00:00 | 1.1 cu.ft. Slim Over the Range Microwave with 550CFM (ME11A7710DG/AC) - Explore the features and specifications and learn more about our Microwave Ovens at Samsung Canada. | ['Space you want, power you need', 'Powerful suction capacity', 'Space-saving design']\"\n",
        "# ]\n",
        "\n",
        "\n",
        "# Create pairs of query and search results\n",
        "pairs = [(query, result) for result in search_results]\n",
        "\n",
        "# Compute the relevance scores using the cross-encoder model\n",
        "scores = model.predict(pairs)\n",
        "\n",
        "# Combine results with their scores\n",
        "results_with_scores = list(zip(search_results, scores))\n",
        "\n",
        "# Sort the results by their scores in descending order\n",
        "sorted_results = sorted(results_with_scores, key=lambda x: x[1], reverse=True)\n",
        "\n",
        "# Output the sorted results with their scores\n",
        "for result, score in sorted_results:\n",
        "    print(f\"Relevance score: {score:.4f} | Search Result: {result}\")\n"
      ],
      "metadata": {
        "colab": {
          "base_uri": "https://localhost:8080/"
        },
        "id": "ikEPZdFspvzr",
        "outputId": "55cb4c26-4162-4ef7-d544-2d27705b450e"
      },
      "execution_count": 17,
      "outputs": [
        {
          "output_type": "stream",
          "name": "stdout",
          "text": [
            "Relevance score: 2.8345 | Search Result: ME21B706B12/AC | 2.1 cu.ft. Over-the-Range Microwave with 400 CFM and Glass Touch Control | Home Appliances | Microwave Ovens | Over-The-Range | 2017-11-21 00:00:00 | 2.1 cu.ft. Over-the-Range Microwave with 400 CFM and Glass Touch Control (ME21B706B12/AC) - Explore the features and specifications and learn more about our Microwave Ovens at Samsung Canada. | ['LED cooktop lighting ', 'Precise Glass Touch Control', 'Simple Clean Filter']\n",
            "Relevance score: 1.9958 | Search Result: ME17R7021EW/AC | 1.7 cu.ft. Over-the-Range Microwave with 300 CFM | Home Appliances | Microwave Ovens | Over-The-Range | 2021-04-22 00:00:00 | ME4000R OTR with New Door, Flat Handle (ME17R7021EW/AC) - Explore the features and specifications and learn more about our Microwave Ovens at Samsung Canada. | ['No unsightly marks', 'Harmonious design', 'Fresh air in a flash']\n",
            "Relevance score: 1.8798 | Search Result: ME11A7510DG/AC | 1.1 cu.ft. Slim Over the Range Microwave with 400CFM | Home Appliances | Microwave Ovens | Over-The-Range | 2021-08-11 00:00:00 | 1.1 cu.ft. Slim Over the Range Microwave with 400CFM (ME11A7510DG/AC) - Explore the features and specifications and learn more about our Microwave Ovens at Samsung Canada. | ['1000W microwave power for quick and efficient cooking', 'Slim, space saving design ', '400 cu.ft. per minute suction capacity helps keep air fresh']\n",
            "Relevance score: 1.8390 | Search Result: ME21DG6300SRAC | 2.1 cu.ft Over the Range Microwave with Finger Print Resistant Finish | Home Appliances | Microwave Ovens | Over-The-Range | 2024-03-25 00:00:00 | 2.1 cu.ft Over the Range Microwave with Finger Print Resistant Finish (ME21DG6300SRAC) - Explore the features and specifications and learn more about our Microwave Ovens at Samsung Canada. | ['Combined control of both cooktop & hood', 'Automatically simple cooking', 'Do the SmartThings at Home']\n",
            "Relevance score: 1.7620 | Search Result: ME11A7710DG/AC | 1.1 cu.ft. Slim Over the Range Microwave with 550CFM | Home Appliances | Microwave Ovens | Over-The-Range | 2021-08-11 00:00:00 | 1.1 cu.ft. Slim Over the Range Microwave with 550CFM (ME11A7710DG/AC) - Explore the features and specifications and learn more about our Microwave Ovens at Samsung Canada. | ['Space you want, power you need', 'Powerful suction capacity', 'Space-saving design']\n",
            "Relevance score: -10.3980 | Search Result: DVE50A5405V/AC | 7.4 Cu.Ft. Electric Dryer with Steam | Home Appliances | Laundry | Dryers | 2021-03-31 00:00:00 | Experience the convenience of smart laundry with the DV7000R dryer. Buy now and enjoy 7.4 cubic feet of capacity and SmartThings compatibility. | ['Steam Sanitize+ helps remove bacteria, pollen, and dust mites.', 'Remotely control & monitor the dryer through SmartThings app', 'Large 7.4 cu. ft. Capacity']\n",
            "Relevance score: -10.6074 | Search Result: WA54CG7550AVA4 | 6.2 cu. ft. 7550 Series Top Load Washer with Auto Dispense System | Home Appliances | Laundry | Washing Machines | 2023-08-15 00:00:00 | 6.2 cu. ft. 7550 Series Top Load Washer with Auto Dispense System (WA54CG7550AVA4) - Explore the features and specifications and learn more about our Laundry at Samsung Canada. | [\"Keep your clothes and your pet's bedding clean. Remove 6X time more pet hair* with a new Pet Care Wash Cycle. \", 'A built-in water faucet lets you easily pretreat soiled or heavily stained clothes with a press of a button.<br/><br/><a href=\"https://www.samsung.com/ca/laundry/washing-machines/wa7550c-top-load-auto-dispense-large-capacity-6-2-cu-ft-black-wa54cg7550ava4/#HowtoMeasure5\" style=\"color:blue\">Click to see product dimensions</a>', 'Conveniently stores and automatically dispenses up to 12 loads of detergent and softener.']\n",
            "Relevance score: -10.8042 | Search Result: WA54CG7150ADA4 | 6.2 cu. ft. 7150 Series Top Load Washer with Pet Care Solution | Home Appliances | Laundry | Washing Machines | 2023-08-15 00:00:00 | 6.2 cu. ft. 7150 Series Top Load Washer with Pet Care Solution (WA54CG7150ADA4) - Explore the features and specifications and learn more about our Laundry at Samsung Canada. | ['Wash a full load in 28 minutes', 'Large Capacity (6.2 cu. ft.)', 'Remove 6x times more pet hair* with Pet Care cycle and dual pet hair filters.']\n",
            "Relevance score: -10.8593 | Search Result: WA50A5400AV/A4 | 5.8 Cu.Ft. Top Load Washer with SmartThings | Home Appliances | Laundry | Washing Machines | 2021-03-31 00:00:00 | Upgrade your laundry game with the Samsung WA7000R. With SmartThings and a spacious 5.8 cu. ft. capacity, it's the ultimate washing machine for any household. | ['EZ Access Design for effortless loading and unloading', 'Control & monitor remotely through SmartThings app', 'Wash a full load in 36 minutes with SuperSpeed']\n",
            "Relevance score: -11.0746 | Search Result: VCA-SBT90/XAA | Replacement Li-ion Battery for Samsung Jet 90 Stick Vacuum | Home Appliances | Home Appliance Accessories | Vacuum Cleaners Battery | 2021-02-26 00:00:00 | Replacement Li-ion Battery for Samsung Jet 90 Stick Vacuum VCA-SBT90/XAA - Explore the features and specifications and learn more about our Home Appliance Accessories at Samsung Canada. | ['Compatible with Jet 90 Stick Vacuum <a href=\"https://www.samsung.com/ca/vacuum-cleaners/stick/vs9000rl-super-powerful-clean-silver-vs20r9046t3-aa/\">VS20R9046T3/AA</a>', 'Clean up to 1 hour', 'Removable and longer-lasting Battery']\n",
            "Relevance score: -11.1578 | Search Result: VCA-SBTA60/XAA | Jet 60 Battery Replacement | Home Appliances | Home Appliance Accessories | Others | 2022-07-05 00:00:00 | Jet 60 Battery Replacement (VCA-SBTA60/XAA) - Explore the features and specifications and learn more about our Home Appliance Accessories at Samsung Canada. | []\n",
            "Relevance score: -11.1801 | Search Result: VG-FBB3BA/ZA | The Freestyle Battery Base | Television | Projector Accessories | The Freestyle Battery Base | 2022-06-10 00:00:00 | The Freestyle Battery Base (VG-FBB3BA/ZA) - Explore the features and specifications and learn more about our Projector Accessories at Samsung Canada. | ['Design that complements The Freestyle', 'Support for smartphone charging', 'High capacity 32,000mAh battery']\n",
            "Relevance score: -11.2200 | Search Result: EF-UA356CTEGCA | Galaxy A35 5G Screen Protector | Mobile | Accessories | Screen Protector | 2024-04-18 00:00:00 | Galaxy A35 5G Screen Protector (EF-UA356CTEGCA) - Shop Samsung.com and learn more about price and offers on Accessories at Samsung Canada | ['Quick and easy applicator', 'Transparent protection', 'Added shield of protection']\n",
            "Relevance score: -11.2307 | Search Result: EF-US928CTEGCA | Galaxy S24 Ultra Anti-Reflecting Screen Protector | Mobile | Accessories | Screen Protector | 2023-12-08 00:00:00 | Keep your Galaxy S24 Ultra screen crystal clear with our Anti-Reflecting Screen Protector. Enjoy superb transparency and extra screen protection. | ['Extra layer of protection', 'Superb transparency']\n",
            "Relevance score: -11.2357 | Search Result: SM-S921WLBEXAC | Galaxy S24 (Online Exclusive) | Mobile | Smartphones | Galaxy S | 2023-12-12 00:00:00 | Meet the new Galaxy S24 and S24+, the smartphones that are setting the new standard of mobile, now with Galaxy AI. Epic, just like that. | ['Shrunken bezels & satin-finished aluminum', 'Setting the new standard of mobile, now with Galaxy AI', 'Space Zoom for pixel-rich portraits & power for gameplay']\n",
            "Relevance score: -11.2369 | Search Result: SM-S926WLBEXAC | Galaxy S24+ (Online Exclusive) | Mobile | Smartphones | Galaxy S | 2023-12-11 00:00:00 | Meet the new Galaxy S24 and S24+, the smartphones that are setting the new standard of mobile, now with Galaxy AI. Epic, just like that. | ['Shrunken bezels & satin-finished aluminum', 'Setting the new standard of mobile, now with Galaxy AI', 'Space Zoom for pixel-rich portraits & power for gameplay']\n",
            "Relevance score: -11.2371 | Search Result: EF-US921CTEGCA | Galaxy S24 Anti-Reflecting Screen Protector | Mobile | Accessories | Screen Protector | 2023-12-07 00:00:00 | Keep your Galaxy S24's screen crystal clear with our Anti-Reflecting Screen Protector. Enjoy superb transparency and enhanced screen safety. | ['Extra layer of protection', 'Superb transparency']\n",
            "Relevance score: -11.2403 | Search Result: EF-US926CTEGCA | Galaxy S24+ Anti-Reflecting Screen Protector | Mobile | Accessories | Screen Protector | 2023-12-08 00:00:00 | Keep your Galaxy S24 Plus screen crystal clear with our Anti-Reflecting Screen Protector. Enjoy superb transparency and enhanced screen safety. | ['Extra layer of protection', 'Superb transparency']\n",
            "Relevance score: -11.2428 | Search Result: EF-US711CTEGCA | Galaxy S23 FE Screen Protector | Mobile | Accessories | Screen Protector | 2023-10-27 00:00:00 | Protect your screen while enjoying the original responsive touch with the S23 FE Screen Protector, featuring an anti-scratch and anti-finger coating. | ['Quick and easy installation', 'Quality defense', 'Added shield of protection']\n",
            "Relevance score: -11.2436 | Search Result: SM-S928WLBFXAC | Galaxy S24 Ultra (Online Exclusive) | Mobile | Smartphones | Galaxy S | 2023-12-12 00:00:00 | Meet the new Galaxy S24 Ultra, the smartphone packed with industry-leading camera, performance and world-changing Galaxy AI. Epic, just like that. | ['Made with titanium. Built to last', 'Industry-leading hardware meets innovative AI', '200MP high-resolution photography & hyper-realistic gameplay']\n",
            "Relevance score: -11.2442 | Search Result: SM-S926WZVEXAC | Galaxy S24+ | Mobile | Smartphones | Galaxy S | 2023-12-11 00:00:00 | Meet the new Galaxy S24 and S24+, the smartphones that are setting the new standard of mobile, now with Galaxy AI. Epic, just like that. | ['Shrunken bezels & satin-finished aluminum', 'Setting the new standard of mobile, now with Galaxy AI', 'Space Zoom for pixel-rich portraits & power for gameplay']\n",
            "Relevance score: -11.2490 | Search Result: SM-S928WZTFXAC | Galaxy S24 Ultra | Mobile | Smartphones | Galaxy S | 2023-12-11 00:00:00 | Meet the new Galaxy S24 Ultra, the smartphone packed with industry-leading camera, performance and world-changing Galaxy AI. Epic, just like that. | ['Made with titanium. Built to last', 'Industry-leading hardware meets innovative AI', '200MP high-resolution photography & hyper-realistic gameplay']\n"
          ]
        }
      ]
    },
    {
      "cell_type": "code",
      "source": [
        "# Define the query\n",
        "query = \"galaxy a54 5g\"\n",
        "\n",
        "## Define the list of search results\n",
        "# search_results = [\n",
        "#     \"WA54CG7550AVA4 | 6.2 cu. ft. 7550 Series Top Load Washer with Auto Dispense System | Home Appliances | Laundry | Washing Machines | 2023-08-15 00:00:00 | 6.2 cu. ft. 7550 Series Top Load Washer with Auto Dispense System (WA54CG7550AVA4) - Explore the features and specifications and learn more about our Laundry at Samsung Canada. | [\\\"Keep your clothes and your pet's bedding clean. Remove 6X time more pet hair* with a new Pet Care Wash Cycle. \\\", 'A built-in water faucet lets you easily pretreat soiled or heavily stained clothes with a press of a button.<br/><br/><a href=\\\"https://www.samsung.com/ca/laundry/washing-machines/wa7550c-top-load-auto-dispense-large-capacity-6-2-cu-ft-black-wa54cg7550ava4/#HowtoMeasure5\\\" style=\\\"color:blue\\\">Click to see product dimensions</a>', 'Conveniently stores and automatically dispenses up to 12 loads of detergent and softener.']\",\n",
        "#     \"WA54CG7150ADA4 | 6.2 cu. ft. 7150 Series Top Load Washer with Pet Care Solution | Home Appliances | Laundry | Washing Machines | 2023-08-15 00:00:00 | 6.2 cu. ft. 7150 Series Top Load Washer with Pet Care Solution (WA54CG7150ADA4) - Explore the features and specifications and learn more about our Laundry at Samsung Canada. | ['Wash a full load in 28 minutes', 'Large Capacity (6.2 cu. ft.)', 'Remove 6x times more pet hair* with Pet Care cycle and dual pet hair filters.']\",\n",
        "#     \"WA50A5400AV/A4 | 5.8 Cu.Ft. Top Load Washer with SmartThings | Home Appliances | Laundry | Washing Machines | 2021-03-31 00:00:00 | Upgrade your laundry game with the Samsung WA7000R. With SmartThings and a spacious 5.8 cu. ft. capacity, it's the ultimate washing machine for any household. | ['EZ Access Design for effortless loading and unloading', 'Control & monitor remotely through SmartThings app', 'Wash a full load in 36 minutes with SuperSpeed']\",\n",
        "#     \"DVE50A5405V/AC | 7.4 Cu.Ft. Electric Dryer with Steam | Home Appliances | Laundry | Dryers | 2021-03-31 00:00:00 | Experience the convenience of smart laundry with the DV7000R dryer. Buy now and enjoy 7.4 cubic feet of capacity and SmartThings compatibility. | ['Steam Sanitize+ helps remove bacteria, pollen, and dust mites.', 'Remotely control & monitor the dryer through SmartThings app', 'Large 7.4 cu. ft. Capacity']\"\n",
        "# ]\n",
        "\n",
        "\n",
        "# Create pairs of query and search results\n",
        "pairs = [(query, result) for result in search_results]\n",
        "\n",
        "# Compute the relevance scores using the cross-encoder model\n",
        "scores = model.predict(pairs)\n",
        "\n",
        "# Combine results with their scores\n",
        "results_with_scores = list(zip(search_results, scores))\n",
        "\n",
        "# Sort the results by their scores in descending order\n",
        "sorted_results = sorted(results_with_scores, key=lambda x: x[1], reverse=True)\n",
        "\n",
        "# Output the sorted results with their scores\n",
        "for result, score in sorted_results:\n",
        "    print(f\"Relevance score: {score:.4f} | Search Result: {result}\")\n"
      ],
      "metadata": {
        "colab": {
          "base_uri": "https://localhost:8080/"
        },
        "id": "fBt_HUNdouw_",
        "outputId": "6c5b7f60-2157-4ad3-d010-5466963d4cdd"
      },
      "execution_count": 18,
      "outputs": [
        {
          "output_type": "stream",
          "name": "stdout",
          "text": [
            "Relevance score: 3.3585 | Search Result: EF-UA356CTEGCA | Galaxy A35 5G Screen Protector | Mobile | Accessories | Screen Protector | 2024-04-18 00:00:00 | Galaxy A35 5G Screen Protector (EF-UA356CTEGCA) - Shop Samsung.com and learn more about price and offers on Accessories at Samsung Canada | ['Quick and easy applicator', 'Transparent protection', 'Added shield of protection']\n",
            "Relevance score: -5.1636 | Search Result: WA50A5400AV/A4 | 5.8 Cu.Ft. Top Load Washer with SmartThings | Home Appliances | Laundry | Washing Machines | 2021-03-31 00:00:00 | Upgrade your laundry game with the Samsung WA7000R. With SmartThings and a spacious 5.8 cu. ft. capacity, it's the ultimate washing machine for any household. | ['EZ Access Design for effortless loading and unloading', 'Control & monitor remotely through SmartThings app', 'Wash a full load in 36 minutes with SuperSpeed']\n",
            "Relevance score: -5.6515 | Search Result: WA54CG7550AVA4 | 6.2 cu. ft. 7550 Series Top Load Washer with Auto Dispense System | Home Appliances | Laundry | Washing Machines | 2023-08-15 00:00:00 | 6.2 cu. ft. 7550 Series Top Load Washer with Auto Dispense System (WA54CG7550AVA4) - Explore the features and specifications and learn more about our Laundry at Samsung Canada. | [\"Keep your clothes and your pet's bedding clean. Remove 6X time more pet hair* with a new Pet Care Wash Cycle. \", 'A built-in water faucet lets you easily pretreat soiled or heavily stained clothes with a press of a button.<br/><br/><a href=\"https://www.samsung.com/ca/laundry/washing-machines/wa7550c-top-load-auto-dispense-large-capacity-6-2-cu-ft-black-wa54cg7550ava4/#HowtoMeasure5\" style=\"color:blue\">Click to see product dimensions</a>', 'Conveniently stores and automatically dispenses up to 12 loads of detergent and softener.']\n",
            "Relevance score: -5.9380 | Search Result: WA54CG7150ADA4 | 6.2 cu. ft. 7150 Series Top Load Washer with Pet Care Solution | Home Appliances | Laundry | Washing Machines | 2023-08-15 00:00:00 | 6.2 cu. ft. 7150 Series Top Load Washer with Pet Care Solution (WA54CG7150ADA4) - Explore the features and specifications and learn more about our Laundry at Samsung Canada. | ['Wash a full load in 28 minutes', 'Large Capacity (6.2 cu. ft.)', 'Remove 6x times more pet hair* with Pet Care cycle and dual pet hair filters.']\n",
            "Relevance score: -6.1844 | Search Result: SM-S928WLBFXAC | Galaxy S24 Ultra (Online Exclusive) | Mobile | Smartphones | Galaxy S | 2023-12-12 00:00:00 | Meet the new Galaxy S24 Ultra, the smartphone packed with industry-leading camera, performance and world-changing Galaxy AI. Epic, just like that. | ['Made with titanium. Built to last', 'Industry-leading hardware meets innovative AI', '200MP high-resolution photography & hyper-realistic gameplay']\n",
            "Relevance score: -6.3842 | Search Result: SM-S928WZTFXAC | Galaxy S24 Ultra | Mobile | Smartphones | Galaxy S | 2023-12-11 00:00:00 | Meet the new Galaxy S24 Ultra, the smartphone packed with industry-leading camera, performance and world-changing Galaxy AI. Epic, just like that. | ['Made with titanium. Built to last', 'Industry-leading hardware meets innovative AI', '200MP high-resolution photography & hyper-realistic gameplay']\n",
            "Relevance score: -6.8758 | Search Result: SM-S926WZVEXAC | Galaxy S24+ | Mobile | Smartphones | Galaxy S | 2023-12-11 00:00:00 | Meet the new Galaxy S24 and S24+, the smartphones that are setting the new standard of mobile, now with Galaxy AI. Epic, just like that. | ['Shrunken bezels & satin-finished aluminum', 'Setting the new standard of mobile, now with Galaxy AI', 'Space Zoom for pixel-rich portraits & power for gameplay']\n",
            "Relevance score: -7.0415 | Search Result: SM-S926WLBEXAC | Galaxy S24+ (Online Exclusive) | Mobile | Smartphones | Galaxy S | 2023-12-11 00:00:00 | Meet the new Galaxy S24 and S24+, the smartphones that are setting the new standard of mobile, now with Galaxy AI. Epic, just like that. | ['Shrunken bezels & satin-finished aluminum', 'Setting the new standard of mobile, now with Galaxy AI', 'Space Zoom for pixel-rich portraits & power for gameplay']\n",
            "Relevance score: -7.0598 | Search Result: SM-S921WLBEXAC | Galaxy S24 (Online Exclusive) | Mobile | Smartphones | Galaxy S | 2023-12-12 00:00:00 | Meet the new Galaxy S24 and S24+, the smartphones that are setting the new standard of mobile, now with Galaxy AI. Epic, just like that. | ['Shrunken bezels & satin-finished aluminum', 'Setting the new standard of mobile, now with Galaxy AI', 'Space Zoom for pixel-rich portraits & power for gameplay']\n",
            "Relevance score: -7.4967 | Search Result: EF-US928CTEGCA | Galaxy S24 Ultra Anti-Reflecting Screen Protector | Mobile | Accessories | Screen Protector | 2023-12-08 00:00:00 | Keep your Galaxy S24 Ultra screen crystal clear with our Anti-Reflecting Screen Protector. Enjoy superb transparency and extra screen protection. | ['Extra layer of protection', 'Superb transparency']\n",
            "Relevance score: -7.7260 | Search Result: EF-US926CTEGCA | Galaxy S24+ Anti-Reflecting Screen Protector | Mobile | Accessories | Screen Protector | 2023-12-08 00:00:00 | Keep your Galaxy S24 Plus screen crystal clear with our Anti-Reflecting Screen Protector. Enjoy superb transparency and enhanced screen safety. | ['Extra layer of protection', 'Superb transparency']\n",
            "Relevance score: -7.7322 | Search Result: EF-US921CTEGCA | Galaxy S24 Anti-Reflecting Screen Protector | Mobile | Accessories | Screen Protector | 2023-12-07 00:00:00 | Keep your Galaxy S24's screen crystal clear with our Anti-Reflecting Screen Protector. Enjoy superb transparency and enhanced screen safety. | ['Extra layer of protection', 'Superb transparency']\n",
            "Relevance score: -8.5846 | Search Result: EF-US711CTEGCA | Galaxy S23 FE Screen Protector | Mobile | Accessories | Screen Protector | 2023-10-27 00:00:00 | Protect your screen while enjoying the original responsive touch with the S23 FE Screen Protector, featuring an anti-scratch and anti-finger coating. | ['Quick and easy installation', 'Quality defense', 'Added shield of protection']\n",
            "Relevance score: -9.8314 | Search Result: ME11A7710DG/AC | 1.1 cu.ft. Slim Over the Range Microwave with 550CFM | Home Appliances | Microwave Ovens | Over-The-Range | 2021-08-11 00:00:00 | 1.1 cu.ft. Slim Over the Range Microwave with 550CFM (ME11A7710DG/AC) - Explore the features and specifications and learn more about our Microwave Ovens at Samsung Canada. | ['Space you want, power you need', 'Powerful suction capacity', 'Space-saving design']\n",
            "Relevance score: -10.0995 | Search Result: ME11A7510DG/AC | 1.1 cu.ft. Slim Over the Range Microwave with 400CFM | Home Appliances | Microwave Ovens | Over-The-Range | 2021-08-11 00:00:00 | 1.1 cu.ft. Slim Over the Range Microwave with 400CFM (ME11A7510DG/AC) - Explore the features and specifications and learn more about our Microwave Ovens at Samsung Canada. | ['1000W microwave power for quick and efficient cooking', 'Slim, space saving design ', '400 cu.ft. per minute suction capacity helps keep air fresh']\n",
            "Relevance score: -10.4585 | Search Result: VG-FBB3BA/ZA | The Freestyle Battery Base | Television | Projector Accessories | The Freestyle Battery Base | 2022-06-10 00:00:00 | The Freestyle Battery Base (VG-FBB3BA/ZA) - Explore the features and specifications and learn more about our Projector Accessories at Samsung Canada. | ['Design that complements The Freestyle', 'Support for smartphone charging', 'High capacity 32,000mAh battery']\n",
            "Relevance score: -10.4603 | Search Result: ME21DG6300SRAC | 2.1 cu.ft Over the Range Microwave with Finger Print Resistant Finish | Home Appliances | Microwave Ovens | Over-The-Range | 2024-03-25 00:00:00 | 2.1 cu.ft Over the Range Microwave with Finger Print Resistant Finish (ME21DG6300SRAC) - Explore the features and specifications and learn more about our Microwave Ovens at Samsung Canada. | ['Combined control of both cooktop & hood', 'Automatically simple cooking', 'Do the SmartThings at Home']\n",
            "Relevance score: -10.6078 | Search Result: VCA-SBT90/XAA | Replacement Li-ion Battery for Samsung Jet 90 Stick Vacuum | Home Appliances | Home Appliance Accessories | Vacuum Cleaners Battery | 2021-02-26 00:00:00 | Replacement Li-ion Battery for Samsung Jet 90 Stick Vacuum VCA-SBT90/XAA - Explore the features and specifications and learn more about our Home Appliance Accessories at Samsung Canada. | ['Compatible with Jet 90 Stick Vacuum <a href=\"https://www.samsung.com/ca/vacuum-cleaners/stick/vs9000rl-super-powerful-clean-silver-vs20r9046t3-aa/\">VS20R9046T3/AA</a>', 'Clean up to 1 hour', 'Removable and longer-lasting Battery']\n",
            "Relevance score: -10.8638 | Search Result: DVE50A5405V/AC | 7.4 Cu.Ft. Electric Dryer with Steam | Home Appliances | Laundry | Dryers | 2021-03-31 00:00:00 | Experience the convenience of smart laundry with the DV7000R dryer. Buy now and enjoy 7.4 cubic feet of capacity and SmartThings compatibility. | ['Steam Sanitize+ helps remove bacteria, pollen, and dust mites.', 'Remotely control & monitor the dryer through SmartThings app', 'Large 7.4 cu. ft. Capacity']\n",
            "Relevance score: -10.9494 | Search Result: ME17R7021EW/AC | 1.7 cu.ft. Over-the-Range Microwave with 300 CFM | Home Appliances | Microwave Ovens | Over-The-Range | 2021-04-22 00:00:00 | ME4000R OTR with New Door, Flat Handle (ME17R7021EW/AC) - Explore the features and specifications and learn more about our Microwave Ovens at Samsung Canada. | ['No unsightly marks', 'Harmonious design', 'Fresh air in a flash']\n",
            "Relevance score: -11.0678 | Search Result: ME21B706B12/AC | 2.1 cu.ft. Over-the-Range Microwave with 400 CFM and Glass Touch Control | Home Appliances | Microwave Ovens | Over-The-Range | 2017-11-21 00:00:00 | 2.1 cu.ft. Over-the-Range Microwave with 400 CFM and Glass Touch Control (ME21B706B12/AC) - Explore the features and specifications and learn more about our Microwave Ovens at Samsung Canada. | ['LED cooktop lighting ', 'Precise Glass Touch Control', 'Simple Clean Filter']\n",
            "Relevance score: -11.0781 | Search Result: VCA-SBTA60/XAA | Jet 60 Battery Replacement | Home Appliances | Home Appliance Accessories | Others | 2022-07-05 00:00:00 | Jet 60 Battery Replacement (VCA-SBTA60/XAA) - Explore the features and specifications and learn more about our Home Appliance Accessories at Samsung Canada. | []\n"
          ]
        }
      ]
    },
    {
      "cell_type": "code",
      "source": [],
      "metadata": {
        "id": "PuDiQ26GgLrq"
      },
      "execution_count": null,
      "outputs": []
    }
  ]
}